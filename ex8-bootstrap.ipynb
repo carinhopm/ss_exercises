{
 "metadata": {
  "language_info": {
   "codemirror_mode": {
    "name": "ipython",
    "version": 3
   },
   "file_extension": ".py",
   "mimetype": "text/x-python",
   "name": "python",
   "nbconvert_exporter": "python",
   "pygments_lexer": "ipython3",
   "version": "3.8.5"
  },
  "orig_nbformat": 4,
  "kernelspec": {
   "name": "python3",
   "display_name": "Python 3.8.5 64-bit ('base': conda)"
  },
  "interpreter": {
   "hash": "9bacb6458dda4b42c6a07503ac3588add1d91b29c1d69c745adbc07a0974aff1"
  }
 },
 "nbformat": 4,
 "nbformat_minor": 2,
 "cells": [
  {
   "cell_type": "code",
   "execution_count": 1,
   "metadata": {},
   "outputs": [],
   "source": [
    "import numpy as np\n",
    "import pandas as pd\n",
    "import matplotlib.pyplot as plt\n",
    "import scipy.stats as st\n",
    "from sklearn.utils import resample"
   ]
  },
  {
   "cell_type": "code",
   "execution_count": 2,
   "metadata": {},
   "outputs": [],
   "source": [
    "def mean_confidence_interval(data, confidence=0.95):\n",
    "    a = 1.0 * np.array(data)\n",
    "    n = len(a)\n",
    "    m, se = np.mean(a), st.sem(a)\n",
    "    h = se * st.t.ppf((1 + confidence) / 2., n-1)\n",
    "    return m, m-h, m+h"
   ]
  },
  {
   "source": [
    "**1. Let X1,..., Xn be independent and identically distributed random variables\n",
    "having unknown mean μ. For given constants a < b, we are interested in\n",
    "estimating p = P{a < sum(Xi)/n − μ < b}.**\n",
    "\n",
    "**(a) Explain how we can use the bootstrap approach to estimate p.**\n",
    "\n",
    "The bootstrap method is a technique to estimate the variance of an estimator based on sampling from the empirical solution. For a concrete number of iterations, it takes N samples from the original dataset **with replacement**. For a relatively high number of iterations we can use this algorithm to estimate the probability given by the estimator p. This is can done by checking if the condition (a < sum(Xi)/N − μ < b) for each of the generated samples and then simply compute the fraction (condition_ocurred/num_iterations)."
   ],
   "cell_type": "markdown",
   "metadata": {}
  },
  {
   "source": [
    "**(b) Estimate p if n = 10 and the values of the Xi are 56, 101, 78, 67, 93, 87,\n",
    "64, 72, 80, and 69. Take a = −5, b = 5.**"
   ],
   "cell_type": "markdown",
   "metadata": {}
  },
  {
   "cell_type": "code",
   "execution_count": 3,
   "metadata": {
    "tags": []
   },
   "outputs": [
    {
     "output_type": "stream",
     "name": "stdout",
     "text": [
      "p = 0.777\nVariance using bootstrap algorithm: 0.17327099999999998 [CI = (0.7511562948998318,0.8028437051001682)]\n"
     ]
    }
   ],
   "source": [
    "n = 10\n",
    "a = -5\n",
    "b = 5\n",
    "data = [56, 101, 78, 67, 93, 87, 64, 72, 80, 69]\n",
    "iterations = 1000\n",
    "\n",
    "# bootstrap algorithm\n",
    "statistics = []\n",
    "mu = np.mean(data)\n",
    "for i in range(iterations):\n",
    "    sample = resample(data, replace=True, n_samples=n, random_state=i)\n",
    "    estimator = (sum(sample) / n) - mu\n",
    "    #print(f'a < {estimator} < b = {a < estimator and b > estimator}')\n",
    "    statistics.append(estimator)\n",
    "p = [1 if a < i and b > i else 0 for i in statistics]\n",
    "variance = np.var(p)\n",
    "CI = mean_confidence_interval(p)\n",
    "\n",
    "print(f'p = {sum(p)/len(p)}')\n",
    "print(f'Variance using bootstrap algorithm: {variance} [CI = ({CI[1]},{CI[2]})]')"
   ]
  },
  {
   "cell_type": "code",
   "execution_count": 4,
   "metadata": {},
   "outputs": [
    {
     "output_type": "stream",
     "name": "stdout",
     "text": [
      "174.01\n"
     ]
    }
   ],
   "source": [
    "print(np.var(data))"
   ]
  },
  {
   "source": [
    "2. If n = 15 and the data are"
   ],
   "cell_type": "markdown",
   "metadata": {}
  },
  {
   "cell_type": "code",
   "execution_count": 5,
   "metadata": {},
   "outputs": [
    {
     "output_type": "stream",
     "name": "stdout",
     "text": [
      "-0.010733333333332616\np = 1.0\nVariance using bootstrap algorithm: 0.0 [CI = (1.0,1.0)]\n"
     ]
    }
   ],
   "source": [
    "n = 15\n",
    "a = -5\n",
    "b = 5\n",
    "data = [5, 4, 9, 6, 21, 17, 11, 20, 7, 10, 21, 15, 13, 16, 8]\n",
    "iterations = 1000\n",
    "\n",
    "# bootstrap algorithm\n",
    "statistics = []\n",
    "mu = np.mean(data)\n",
    "for i in range(iterations):\n",
    "    sample = resample(data, replace=True, n_samples=n, random_state=i)\n",
    "    estimator = (sum(sample) / n) - mu\n",
    "    #print(f'a < {estimator} < b = {a < estimator and b > estimator}')\n",
    "    statistics.append(estimator)\n",
    "print(np.mean(statistics))\n",
    "p = [1 if a < i and b > i else 0 for i in statistics]\n",
    "variance = np.var(p)\n",
    "CI = mean_confidence_interval(p)\n",
    "\n",
    "print(f'p = {sum(p)/len(p)}')\n",
    "print(f'Variance using bootstrap algorithm: {variance} [CI = ({CI[1]},{CI[2]})]')"
   ]
  },
  {
   "cell_type": "code",
   "execution_count": 6,
   "metadata": {},
   "outputs": [
    {
     "output_type": "stream",
     "name": "stdout",
     "text": [
      "32.026666666666664\n"
     ]
    }
   ],
   "source": [
    "print(np.var(data))"
   ]
  },
  {
   "source": [
    "**3. Write a subroutine that takes as input a “data” vector of\n",
    "observed values, and which outputs the median as well as the\n",
    "bootstrap estimate of the variance of the median, based on\n",
    "r = 100 bootstrap replicates. Simulate N = 200 Pareto\n",
    "distributed random variates with β = 1 and k = 1.05.**\n",
    "\n",
    "**(a) Compute the mean and the median (of the sample)**\n",
    "\n",
    "**(b) Make the bootstrap estimate of the variance of the sample\n",
    "mean.**\n",
    "\n",
    "**(c) Make the bootstrap estimate of the variance of the sample\n",
    "median.**\n",
    "\n",
    "**(d) Compare the precision of the estimated median with the\n",
    "precision of the estimated mean.**"
   ],
   "cell_type": "markdown",
   "metadata": {}
  },
  {
   "cell_type": "code",
   "execution_count": 7,
   "metadata": {},
   "outputs": [],
   "source": [
    "def bootstrap_mean(data, N, r=100):\n",
    "    statistics = []\n",
    "    median = np.mean(data)\n",
    "    for i in range(r):\n",
    "        sample = resample(data, replace=True, n_samples=N, random_state=i)\n",
    "        estimator = np.mean(sample)\n",
    "        statistics.append(estimator)\n",
    "    return np.var(statistics)\n",
    "\n",
    "def bootstrap_median(data, N, r=100):\n",
    "    statistics = []\n",
    "    median = np.median(data)\n",
    "    for i in range(r):\n",
    "        sample = resample(data, replace=True, n_samples=N, random_state=i)\n",
    "        estimator = np.median(sample)\n",
    "        statistics.append(estimator)\n",
    "    return np.var(statistics)"
   ]
  },
  {
   "cell_type": "code",
   "execution_count": 8,
   "metadata": {},
   "outputs": [
    {
     "output_type": "stream",
     "name": "stdout",
     "text": [
      "Mean: 5.002711195183667\nMedian: 2.0284181538476607\nBoostrap estimate of the variance of the sample mean: 0.15177431000000005\nBoostrap estimate of the variance of the sample median: 0.785275\n"
     ]
    }
   ],
   "source": [
    "N = 200\n",
    "beta = 1\n",
    "k = 1.05\n",
    "u = np.random.uniform(size=N)\n",
    "pareto = beta / np.power(u,(1/k))\n",
    "\n",
    "# a)\n",
    "mean = np.mean(pareto)\n",
    "median = np.median(pareto)\n",
    "print(f'Mean: {mean}')\n",
    "print(f'Median: {median}')\n",
    "\n",
    "# b)\n",
    "print(f'Boostrap estimate of the variance of the sample mean: {bootstrap_mean(data,N)}')\n",
    "\n",
    "# c)\n",
    "print(f'Boostrap estimate of the variance of the sample median: {bootstrap_median(data,N)}')"
   ]
  },
  {
   "source": [
    "By the definition of mean and median, it is logic to find that the estimate variance of the mean is lower than the estimated variance for the median. Since the different samples of length N=200 are being generated from a set of (also) N values, the median will change its value per iteration more than the average of an N-sequence."
   ],
   "cell_type": "markdown",
   "metadata": {}
  }
 ]
}