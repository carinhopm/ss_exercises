{
 "metadata": {
  "language_info": {
   "codemirror_mode": {
    "name": "ipython",
    "version": 3
   },
   "file_extension": ".py",
   "mimetype": "text/x-python",
   "name": "python",
   "nbconvert_exporter": "python",
   "pygments_lexer": "ipython3",
   "version": "3.8.5"
  },
  "orig_nbformat": 2,
  "kernelspec": {
   "name": "python3",
   "display_name": "Python 3.8.5 64-bit ('base': conda)"
  },
  "interpreter": {
   "hash": "9bacb6458dda4b42c6a07503ac3588add1d91b29c1d69c745adbc07a0974aff1"
  }
 },
 "nbformat": 4,
 "nbformat_minor": 2,
 "cells": [
  {
   "cell_type": "code",
   "execution_count": 1,
   "metadata": {},
   "outputs": [],
   "source": [
    "import numpy as np\n",
    "import pandas as pd\n",
    "import matplotlib.pyplot as plt\n",
    "import scipy.stats as st\n",
    "import math"
   ]
  },
  {
   "source": [
    "**1. Estimate the integral by simulation (the crude Monte Carlo estimator). Use eg. an estimator based on 100 samples and present the result as the point estimator and a confidence interval.**\n"
   ],
   "cell_type": "markdown",
   "metadata": {}
  },
  {
   "cell_type": "code",
   "execution_count": 2,
   "metadata": {},
   "outputs": [
    {
     "output_type": "stream",
     "name": "stdout",
     "text": [
      "The crude Monte Carlo estimator: 1.639884197022849\nVariance: 0.22201323955625327\nConfidence Interval: (1.5459203054062376, 1.7338480886394605)\n"
     ]
    }
   ],
   "source": [
    "u = np.random.uniform(size=100)\n",
    "y = np.exp(u)\n",
    "print(f'The crude Monte Carlo estimator: {sum(y)/len(y)}')\n",
    "print(f'Variance: {np.var(y)}')\n",
    "print(f'Confidence Interval: {st.t.interval(0.95, len(y)-1, loc=np.mean(y), scale=st.sem(y))}')"
   ]
  },
  {
   "source": [
    "**2. Estimate the integral using antithetic variables, with comparable computer ressources.**"
   ],
   "cell_type": "markdown",
   "metadata": {}
  },
  {
   "cell_type": "code",
   "execution_count": 3,
   "metadata": {},
   "outputs": [
    {
     "output_type": "stream",
     "name": "stdout",
     "text": [
      "Estimator with Antithetic Variables: 1.7141584449361558\nVariance: 0.0039218952251629975\nConfidence Interval: (1.7016696782613148, 1.7266472116109972)\n"
     ]
    }
   ],
   "source": [
    "u = np.random.uniform(size=100)\n",
    "y = (np.exp(u) + np.exp(1-u)) / 2\n",
    "print(f'Estimator with Antithetic Variables: {sum(y)/len(y)}')\n",
    "print(f'Variance: {np.var(y)}')\n",
    "print(f'Confidence Interval: {st.t.interval(0.95, len(y)-1, loc=np.mean(y), scale=st.sem(y))}')"
   ]
  },
  {
   "source": [
    "**3. Estimate the integral using a control variable, with comparable computer ressources.**\n"
   ],
   "cell_type": "markdown",
   "metadata": {}
  },
  {
   "cell_type": "code",
   "execution_count": 4,
   "metadata": {},
   "outputs": [
    {
     "output_type": "stream",
     "name": "stdout",
     "text": [
      "Estimator with Control Variable: 1.7241194994995128\nVariance: 0.003395625996422876\nConfidence Interval: (1.7124988210770746, 1.735740177921951)\n"
     ]
    }
   ],
   "source": [
    "u = np.random.uniform(size=100)\n",
    "x = np.exp(u)\n",
    "y = u\n",
    "cov = np.mean(x*y) - (np.mean(x)*np.mean(y))\n",
    "c = -cov / np.var(y)\n",
    "mu_y = np.mean(y)\n",
    "z = x + c*(y-mu_y)\n",
    "print(f'Estimator with Control Variable: {sum(z)/len(z)}')\n",
    "print(f'Variance: {np.var(z)}')\n",
    "print(f'Confidence Interval: {st.t.interval(0.95, len(z)-1, loc=np.mean(z), scale=st.sem(z))}')"
   ]
  },
  {
   "source": [
    "**4. Estimate the integral using stratified sampling, with comparable computer ressources.**\n"
   ],
   "cell_type": "markdown",
   "metadata": {}
  },
  {
   "cell_type": "code",
   "execution_count": 5,
   "metadata": {},
   "outputs": [
    {
     "output_type": "stream",
     "name": "stdout",
     "text": [
      "Estimator with Stratified Sampling: 1.7178926866995032\nVariance: 0.0018580817115262482\nConfidence Interval: (1.7092965371457916, 1.7264888362532145)\n"
     ]
    }
   ],
   "source": [
    "def rd():\n",
    "    return np.random.uniform()\n",
    "\n",
    "y = []\n",
    "for i in range(100):\n",
    "    num = np.exp(rd()/5) + np.exp(1/5+rd()/5) + np.exp(2/5+rd()/5) + np.exp(3/5+rd()/5) + np.exp(4/5+rd()/5)\n",
    "    y.append(num / 5)\n",
    "y = np.asarray(y)\n",
    "print(f'Estimator with Stratified Sampling: {sum(y)/len(y)}')\n",
    "print(f'Variance: {np.var(y)}')\n",
    "print(f'Confidence Interval: {st.t.interval(0.95, len(y)-1, loc=np.mean(y), scale=st.sem(y))}')"
   ]
  },
  {
   "source": [
    "**5. Use control variates to reduce the variance of the estimator in exercise 4 (Poisson arrivals).**"
   ],
   "cell_type": "markdown",
   "metadata": {}
  },
  {
   "cell_type": "code",
   "execution_count": 6,
   "metadata": {},
   "outputs": [],
   "source": [
    "class Blocking_System:\n",
    "    def __init__(self, m: int, service, arrival, \n",
    "                 arrival_method: str = 'poisson', service_method: str = 'exp',\n",
    "                 ):\n",
    "        self.generate_cv()\n",
    "        self.clock=0.0                      #simulation clock\n",
    "        self.num_service_units=m            #system with m service units\n",
    "        self.arrival_mtd=arrival_method     #arrival distribution\n",
    "        self.service_mtd=service_method     #service distribution\n",
    "        self.param_service=service          #parameter for service dist.\n",
    "        self.param_arrival=arrival          #parameter for arrival dist.\n",
    "        self.num_arrivals=0                 #total number of arrivals\n",
    "        self.t_arrival=self.gen_arrival_time()   #time of next arrival\n",
    "        self.t_departures=np.ones(m)*100000. #departure times for each service unit (100.000 as infinite)\n",
    "        self.dep_sums=np.zeros((m,), dtype=int) #Sum of service time\n",
    "        self.states=np.zeros((m,), dtype=int) #current states\n",
    "        self.num_of_departures=np.zeros((m,), dtype=int) #number of customers served\n",
    "        self.lost_customers=0               #customers who left without service\n",
    "        self.num_in_system=0                #customers in the system\n",
    "    \n",
    "\n",
    "    def generate_cv(self):\n",
    "        # Control variates impl.\n",
    "        u = np.random.uniform(size=100)\n",
    "        x = np.random.poisson(size=100)\n",
    "        y = u\n",
    "        cov = np.mean(x*y) - (np.mean(x)*np.mean(y))\n",
    "        c = -cov / np.var(y)\n",
    "        mu_y = np.mean(y)\n",
    "        self.poisson_c=c\n",
    "        self.poisson_mu_y=mu_y\n",
    "\n",
    "\n",
    "    def time_adv(self):                                                       \n",
    "        t_departure=min(self.t_departures)\n",
    "        idx = list(self.t_departures).index(t_departure)\n",
    "        if self.t_arrival<t_departure:\n",
    "            self.clock=self.t_arrival\n",
    "            self.arrival()\n",
    "        else:\n",
    "            self.clock=t_departure\n",
    "            self.departure(idx)\n",
    "\n",
    "\n",
    "    def arrival(self):              \n",
    "        self.num_arrivals += 1\n",
    "        self.num_in_system += 1\n",
    "\n",
    "        accepted = False\n",
    "        for idx in range(self.num_service_units):\n",
    "            if self.states[idx]==0:\n",
    "                accepted = True\n",
    "                dep=self.gen_service_time()\n",
    "                self.dep_sums[idx] += dep\n",
    "                self.t_departures[idx]=self.clock + dep\n",
    "                self.states[idx]=1\n",
    "                break\n",
    "\n",
    "        self.t_arrival=self.clock+self.gen_arrival_time()\n",
    "        if not accepted:\n",
    "            self.lost_customers += 1\n",
    "\n",
    "\n",
    "    def departure(self, idx: int):\n",
    "        self.num_of_departures[idx] += 1\n",
    "        self.t_departures[idx]=100000. # (100.000 as infinite)\n",
    "        self.states[idx]=0                  \n",
    "\n",
    "\n",
    "    def gen_arrival_time(self):         #function to generate arrival times \n",
    "        if self.arrival_mtd=='erlang':\n",
    "            return (np.random.gamma(self.param_arrival)) # Erlang distribution (using Gamma with shape=int)\n",
    "        elif self.arrival_mtd=='hyperexp': # Hyper Exponential distribution p1 = 0.8, λ1 = 0.8333, p2 = 0.2, λ2 = 5.0\n",
    "            if np.random.uniform() <= 0.8: #p1\n",
    "                return (np.random.exponential(scale=1./0.833)) #λ1\n",
    "            else: #p2\n",
    "                return (np.random.exponential(scale=1./5.)) #λ2\n",
    "        elif self.arrival_mtd=='cv-poisson':\n",
    "            y = np.random.uniform()\n",
    "            x = np.random.poisson()\n",
    "            return x + self.poisson_c*(y - self.poisson_mu_y)\n",
    "        else:\n",
    "            return (np.random.poisson()) # Poisson distribution\n",
    "\n",
    "    \n",
    "    def gen_service_time(self):         #function to generate service time\n",
    "        if self.service_mtd=='constant':\n",
    "            return self.param_service\n",
    "        if self.service_mtd=='pareto': # Pareto distribution\n",
    "            return (np.random.pareto(self.param_service))\n",
    "        if self.service_mtd=='normal':\n",
    "            return (np.random.normal(loc=self.param_service)) # Normal Distribution\n",
    "        else:\n",
    "            return (np.random.exponential()) # Exponential distribution (lamda=1)\n",
    "    \n",
    "    "
   ]
  },
  {
   "cell_type": "code",
   "execution_count": 7,
   "metadata": {},
   "outputs": [],
   "source": [
    "results = pd.DataFrame([],columns=['run','mean','count','std','CI low limit','CI high limit','CI range'])"
   ]
  },
  {
   "cell_type": "code",
   "execution_count": 8,
   "metadata": {},
   "outputs": [
    {
     "output_type": "execute_result",
     "data": {
      "text/plain": [
       "   Fraction of blocked customers  Average interarrival time  Total Customers  \\\n",
       "0                         0.0005                   0.995300          10001.0   \n",
       "1                         0.0001                   0.990801          10001.0   \n",
       "2                         0.0002                   0.995000          10001.0   \n",
       "3                         0.0000                   1.005999          10001.0   \n",
       "4                         0.0000                   0.987201          10001.0   \n",
       "5                         0.0000                   1.019998          10001.0   \n",
       "6                         0.0002                   1.002600          10001.0   \n",
       "7                         0.0001                   0.985501          10001.0   \n",
       "8                         0.0004                   0.989201          10001.0   \n",
       "9                         0.0001                   1.002000          10001.0   \n",
       "\n",
       "   Blocked Customers  \n",
       "0                5.0  \n",
       "1                1.0  \n",
       "2                2.0  \n",
       "3                0.0  \n",
       "4                0.0  \n",
       "5                0.0  \n",
       "6                2.0  \n",
       "7                1.0  \n",
       "8                4.0  \n",
       "9                1.0  "
      ],
      "text/html": "<div>\n<style scoped>\n    .dataframe tbody tr th:only-of-type {\n        vertical-align: middle;\n    }\n\n    .dataframe tbody tr th {\n        vertical-align: top;\n    }\n\n    .dataframe thead th {\n        text-align: right;\n    }\n</style>\n<table border=\"1\" class=\"dataframe\">\n  <thead>\n    <tr style=\"text-align: right;\">\n      <th></th>\n      <th>Fraction of blocked customers</th>\n      <th>Average interarrival time</th>\n      <th>Total Customers</th>\n      <th>Blocked Customers</th>\n    </tr>\n  </thead>\n  <tbody>\n    <tr>\n      <th>0</th>\n      <td>0.0005</td>\n      <td>0.995300</td>\n      <td>10001.0</td>\n      <td>5.0</td>\n    </tr>\n    <tr>\n      <th>1</th>\n      <td>0.0001</td>\n      <td>0.990801</td>\n      <td>10001.0</td>\n      <td>1.0</td>\n    </tr>\n    <tr>\n      <th>2</th>\n      <td>0.0002</td>\n      <td>0.995000</td>\n      <td>10001.0</td>\n      <td>2.0</td>\n    </tr>\n    <tr>\n      <th>3</th>\n      <td>0.0000</td>\n      <td>1.005999</td>\n      <td>10001.0</td>\n      <td>0.0</td>\n    </tr>\n    <tr>\n      <th>4</th>\n      <td>0.0000</td>\n      <td>0.987201</td>\n      <td>10001.0</td>\n      <td>0.0</td>\n    </tr>\n    <tr>\n      <th>5</th>\n      <td>0.0000</td>\n      <td>1.019998</td>\n      <td>10001.0</td>\n      <td>0.0</td>\n    </tr>\n    <tr>\n      <th>6</th>\n      <td>0.0002</td>\n      <td>1.002600</td>\n      <td>10001.0</td>\n      <td>2.0</td>\n    </tr>\n    <tr>\n      <th>7</th>\n      <td>0.0001</td>\n      <td>0.985501</td>\n      <td>10001.0</td>\n      <td>1.0</td>\n    </tr>\n    <tr>\n      <th>8</th>\n      <td>0.0004</td>\n      <td>0.989201</td>\n      <td>10001.0</td>\n      <td>4.0</td>\n    </tr>\n    <tr>\n      <th>9</th>\n      <td>0.0001</td>\n      <td>1.002000</td>\n      <td>10001.0</td>\n      <td>1.0</td>\n    </tr>\n  </tbody>\n</table>\n</div>"
     },
     "metadata": {},
     "execution_count": 8
    }
   ],
   "source": [
    "m = 10\n",
    "mu_service = 8\n",
    "mu_arrival = 1\n",
    "s=Blocking_System(m, mu_service, mu_arrival)\n",
    "df=pd.DataFrame(columns=['Fraction of blocked customers','Average interarrival time','Total Customers','Blocked Customers'])\n",
    "\n",
    "for i in range(10):\n",
    "    np.random.seed(i)\n",
    "    s.__init__(m, mu_service, mu_arrival)\n",
    "    while s.num_in_system <= 10000 :\n",
    "        s.time_adv() \n",
    "    a=pd.Series([s.lost_customers/s.num_arrivals,s.clock/s.num_arrivals,s.num_arrivals,s.lost_customers],index=df.columns)\n",
    "    df=df.append(a,ignore_index=True)   \n",
    "    \n",
    "df  "
   ]
  },
  {
   "cell_type": "code",
   "execution_count": 9,
   "metadata": {},
   "outputs": [],
   "source": [
    "stats = df['Fraction of blocked customers'].agg(['mean', 'count', 'std'])\n",
    "ci95_hi = []\n",
    "ci95_lo = []\n",
    "m = stats.loc['mean']\n",
    "c = stats.loc['count']\n",
    "s = stats.loc['std']\n",
    "ci95_hi.append(m + 1.95*s/math.sqrt(c))\n",
    "ci95_lo.append(m - 1.95*s/math.sqrt(c))\n",
    "\n",
    "stats['CI low limit'] = ci95_lo\n",
    "stats['CI high limit'] = ci95_hi\n",
    "stats['CI range'] = ci95_hi[0] - ci95_lo[0]\n",
    "\n",
    "stats['run'] = 'Standard Poisson'\n",
    "results = results.append(stats,ignore_index=True)"
   ]
  },
  {
   "cell_type": "code",
   "execution_count": 10,
   "metadata": {},
   "outputs": [
    {
     "output_type": "execute_result",
     "data": {
      "text/plain": [
       "   Fraction of blocked customers  Average interarrival time  Total Customers  \\\n",
       "0                         0.0000                   0.985719          10001.0   \n",
       "1                         0.0000                   1.016801          10001.0   \n",
       "2                         0.0000                   0.996130          10001.0   \n",
       "3                         0.0000                   0.977758          10001.0   \n",
       "4                         0.0003                   1.000607          10001.0   \n",
       "5                         0.0000                   1.021193          10001.0   \n",
       "6                         0.0002                   1.006060          10001.0   \n",
       "7                         0.0001                   0.974552          10001.0   \n",
       "8                         0.0000                   0.989724          10001.0   \n",
       "9                         0.0000                   0.994879          10001.0   \n",
       "\n",
       "   Blocked Customers  \n",
       "0                0.0  \n",
       "1                0.0  \n",
       "2                0.0  \n",
       "3                0.0  \n",
       "4                3.0  \n",
       "5                0.0  \n",
       "6                2.0  \n",
       "7                1.0  \n",
       "8                0.0  \n",
       "9                0.0  "
      ],
      "text/html": "<div>\n<style scoped>\n    .dataframe tbody tr th:only-of-type {\n        vertical-align: middle;\n    }\n\n    .dataframe tbody tr th {\n        vertical-align: top;\n    }\n\n    .dataframe thead th {\n        text-align: right;\n    }\n</style>\n<table border=\"1\" class=\"dataframe\">\n  <thead>\n    <tr style=\"text-align: right;\">\n      <th></th>\n      <th>Fraction of blocked customers</th>\n      <th>Average interarrival time</th>\n      <th>Total Customers</th>\n      <th>Blocked Customers</th>\n    </tr>\n  </thead>\n  <tbody>\n    <tr>\n      <th>0</th>\n      <td>0.0000</td>\n      <td>0.985719</td>\n      <td>10001.0</td>\n      <td>0.0</td>\n    </tr>\n    <tr>\n      <th>1</th>\n      <td>0.0000</td>\n      <td>1.016801</td>\n      <td>10001.0</td>\n      <td>0.0</td>\n    </tr>\n    <tr>\n      <th>2</th>\n      <td>0.0000</td>\n      <td>0.996130</td>\n      <td>10001.0</td>\n      <td>0.0</td>\n    </tr>\n    <tr>\n      <th>3</th>\n      <td>0.0000</td>\n      <td>0.977758</td>\n      <td>10001.0</td>\n      <td>0.0</td>\n    </tr>\n    <tr>\n      <th>4</th>\n      <td>0.0003</td>\n      <td>1.000607</td>\n      <td>10001.0</td>\n      <td>3.0</td>\n    </tr>\n    <tr>\n      <th>5</th>\n      <td>0.0000</td>\n      <td>1.021193</td>\n      <td>10001.0</td>\n      <td>0.0</td>\n    </tr>\n    <tr>\n      <th>6</th>\n      <td>0.0002</td>\n      <td>1.006060</td>\n      <td>10001.0</td>\n      <td>2.0</td>\n    </tr>\n    <tr>\n      <th>7</th>\n      <td>0.0001</td>\n      <td>0.974552</td>\n      <td>10001.0</td>\n      <td>1.0</td>\n    </tr>\n    <tr>\n      <th>8</th>\n      <td>0.0000</td>\n      <td>0.989724</td>\n      <td>10001.0</td>\n      <td>0.0</td>\n    </tr>\n    <tr>\n      <th>9</th>\n      <td>0.0000</td>\n      <td>0.994879</td>\n      <td>10001.0</td>\n      <td>0.0</td>\n    </tr>\n  </tbody>\n</table>\n</div>"
     },
     "metadata": {},
     "execution_count": 10
    }
   ],
   "source": [
    "m = 10\n",
    "mu_service = 8\n",
    "mu_arrival = 1\n",
    "s=Blocking_System(m, mu_service, mu_arrival, arrival_method='cv-poisson')\n",
    "df=pd.DataFrame(columns=['Fraction of blocked customers','Average interarrival time','Total Customers','Blocked Customers'])\n",
    "\n",
    "for i in range(10):\n",
    "    np.random.seed(i)\n",
    "    s.__init__(m, mu_service, mu_arrival, arrival_method='cv-poisson')\n",
    "    while s.num_in_system <= 10000 :\n",
    "        s.time_adv() \n",
    "    a=pd.Series([s.lost_customers/s.num_arrivals,s.clock/s.num_arrivals,s.num_arrivals,s.lost_customers],index=df.columns)\n",
    "    df=df.append(a,ignore_index=True)   \n",
    "    \n",
    "df  "
   ]
  },
  {
   "cell_type": "code",
   "execution_count": 11,
   "metadata": {},
   "outputs": [],
   "source": [
    "stats = df['Fraction of blocked customers'].agg(['mean', 'count', 'std'])\n",
    "ci95_hi = []\n",
    "ci95_lo = []\n",
    "m = stats.loc['mean']\n",
    "c = stats.loc['count']\n",
    "s = stats.loc['std']\n",
    "ci95_hi.append(m + 1.95*s/math.sqrt(c))\n",
    "ci95_lo.append(m - 1.95*s/math.sqrt(c))\n",
    "\n",
    "stats['CI low limit'] = ci95_lo\n",
    "stats['CI high limit'] = ci95_hi\n",
    "stats['CI range'] = ci95_hi[0] - ci95_lo[0]\n",
    "\n",
    "stats['run'] = 'Poisson with Control Variates'\n",
    "results = results.append(stats,ignore_index=True)"
   ]
  },
  {
   "cell_type": "code",
   "execution_count": 12,
   "metadata": {},
   "outputs": [
    {
     "output_type": "execute_result",
     "data": {
      "text/plain": [
       "                             run     mean  count       std  \\\n",
       "0               Standard Poisson  0.00016   10.0  0.000171   \n",
       "1  Poisson with Control Variates  0.00006   10.0  0.000107   \n",
       "\n",
       "               CI low limit            CI high limit  CI range  \n",
       "0   [5.438206253347918e-05]  [0.0002655859406662009]  0.000211  \n",
       "1  [-6.286625014204773e-06]  [0.0001262746262140848]  0.000133  "
      ],
      "text/html": "<div>\n<style scoped>\n    .dataframe tbody tr th:only-of-type {\n        vertical-align: middle;\n    }\n\n    .dataframe tbody tr th {\n        vertical-align: top;\n    }\n\n    .dataframe thead th {\n        text-align: right;\n    }\n</style>\n<table border=\"1\" class=\"dataframe\">\n  <thead>\n    <tr style=\"text-align: right;\">\n      <th></th>\n      <th>run</th>\n      <th>mean</th>\n      <th>count</th>\n      <th>std</th>\n      <th>CI low limit</th>\n      <th>CI high limit</th>\n      <th>CI range</th>\n    </tr>\n  </thead>\n  <tbody>\n    <tr>\n      <th>0</th>\n      <td>Standard Poisson</td>\n      <td>0.00016</td>\n      <td>10.0</td>\n      <td>0.000171</td>\n      <td>[5.438206253347918e-05]</td>\n      <td>[0.0002655859406662009]</td>\n      <td>0.000211</td>\n    </tr>\n    <tr>\n      <th>1</th>\n      <td>Poisson with Control Variates</td>\n      <td>0.00006</td>\n      <td>10.0</td>\n      <td>0.000107</td>\n      <td>[-6.286625014204773e-06]</td>\n      <td>[0.0001262746262140848]</td>\n      <td>0.000133</td>\n    </tr>\n  </tbody>\n</table>\n</div>"
     },
     "metadata": {},
     "execution_count": 12
    }
   ],
   "source": [
    "results"
   ]
  },
  {
   "source": [
    "As it can be checked in the table above, the CI range of values has been reduced from 0.000211 to 0.000133, 37% less."
   ],
   "cell_type": "markdown",
   "metadata": {}
  },
  {
   "source": [
    "**6. Demonstrate the effect of using common random numbers in exercise 4 for the difference between Poisson arrivals (Part 1) and a renewal process with hyperexponential interarrival times. Remark: You might need to some thinking and some re-programming.**"
   ],
   "cell_type": "markdown",
   "metadata": {}
  },
  {
   "cell_type": "code",
   "execution_count": null,
   "metadata": {},
   "outputs": [],
   "source": []
  },
  {
   "source": [
    "**7. Use importance sampling with g(x) = λ exp (−λ ∗ x) to calculate the integral. Try to find the optimal value of λ by calculating the variance of h(x)f(x)/g(x) and verify by simulation. Note that importance sampling with the exponential distribution will not reduce the variance in this case compared to the other methods.**"
   ],
   "cell_type": "markdown",
   "metadata": {}
  },
  {
   "cell_type": "code",
   "execution_count": 13,
   "metadata": {},
   "outputs": [
    {
     "output_type": "stream",
     "name": "stdout",
     "text": [
      "Estimator with Importance Sampling: 1.0435444883162455\nVariance: 0.011059429800013813\nConfidence Interval: (1.02257258115986, 1.0645163954726313)\n"
     ]
    }
   ],
   "source": [
    "u = np.random.uniform(size=100)\n",
    "x = np.exp(u)\n",
    "lamda = 1 # at least for the combination of f and g this is not affecting\n",
    "f_x = lamda*np.exp(-lamda*x)\n",
    "g_x = lamda*np.exp(-lamda*x) + 0.1 # if we increase this difference the variance decreases\n",
    "z = (x*f_x) / g_x\n",
    "print(f'Estimator with Importance Sampling: {sum(z)/len(z)}')\n",
    "print(f'Variance: {np.var(z)}')\n",
    "print(f'Confidence Interval: {st.t.interval(0.95, len(z)-1, loc=np.mean(z), scale=st.sem(z))}')"
   ]
  },
  {
   "source": [
    "**8. Estimate the probability X > a. For a standard normal random variable Z ∼ N(0, 1) using the crude Monte Carlo estimator. Then try importance sampling with a normal density with mean a and\n",
    "variance σ2. For the expirements start using σ2 = 1, use different values of a (e.g. 2 and 4), and different sample sizes. If time permits experiment with other values for σ2. Finally discuss the efficiency of the methods.**"
   ],
   "cell_type": "markdown",
   "metadata": {}
  },
  {
   "cell_type": "code",
   "execution_count": 29,
   "metadata": {},
   "outputs": [
    {
     "output_type": "execute_result",
     "data": {
      "text/plain": [
       "'f_x = lamda*np.exp(−lamda*x)'"
      ]
     },
     "metadata": {},
     "execution_count": 29
    }
   ],
   "source": []
  },
  {
   "source": [
    "**9. For the Pareto case derive the IS estimator for the mean using the first moment distribution as sampling distribution. Is the approach meaningful? and could this be done in general?**"
   ],
   "cell_type": "markdown",
   "metadata": {}
  },
  {
   "cell_type": "code",
   "execution_count": null,
   "metadata": {},
   "outputs": [],
   "source": []
  }
 ]
}