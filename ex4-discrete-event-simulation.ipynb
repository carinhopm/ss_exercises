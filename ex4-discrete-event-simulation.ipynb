{
 "metadata": {
  "language_info": {
   "codemirror_mode": {
    "name": "ipython",
    "version": 3
   },
   "file_extension": ".py",
   "mimetype": "text/x-python",
   "name": "python",
   "nbconvert_exporter": "python",
   "pygments_lexer": "ipython3",
   "version": "3.8.5"
  },
  "orig_nbformat": 2,
  "kernelspec": {
   "name": "python385jvsc74a57bd09bacb6458dda4b42c6a07503ac3588add1d91b29c1d69c745adbc07a0974aff1",
   "display_name": "Python 3.8.5 64-bit ('base': conda)"
  }
 },
 "nbformat": 4,
 "nbformat_minor": 2,
 "cells": [
  {
   "cell_type": "code",
   "execution_count": 1,
   "metadata": {},
   "outputs": [],
   "source": [
    "import numpy as np\n",
    "import pandas as pd"
   ]
  },
  {
   "cell_type": "code",
   "execution_count": 2,
   "metadata": {},
   "outputs": [],
   "source": [
    "class Blocking_System:\n",
    "    def __init__(self, m: int, service, arrival, \n",
    "                 arrival_method: str = 'poisson', service_method: str = 'exp'): \n",
    "        self.clock=0.0                      #simulation clock\n",
    "        self.num_service_units=m            #system with m service units\n",
    "        self.arrival_mtd=arrival_method     #arrival distribution\n",
    "        self.service_mtd=service_method     #service distribution\n",
    "        self.param_service=service          #parameter for service dist.\n",
    "        self.param_arrival=arrival          #parameter for arrival dist.\n",
    "        self.num_arrivals=0                 #total number of arrivals\n",
    "        self.t_arrival=self.gen_arrival_time()   #time of next arrival\n",
    "        self.t_departures=np.ones(m)*100000. #departure times for each service unit (100.000 as infinite)\n",
    "        self.dep_sums=np.zeros((m,), dtype=int) #Sum of service time\n",
    "        self.states=np.zeros((m,), dtype=int) #current states\n",
    "        self.num_of_departures=np.zeros((m,), dtype=int) #number of customers served\n",
    "        self.lost_customers=0               #customers who left without service\n",
    "        self.num_in_system=0                #customers in the system\n",
    "\n",
    "\n",
    "    def time_adv(self):                                                       \n",
    "        t_next_event=min(self.t_arrival,min(self.t_departures))  \n",
    "        self.clock=t_next_event\n",
    "\n",
    "        t_departure=min(self.t_departures)\n",
    "        idx = list(self.t_departures).index(t_departure)\n",
    "        if self.t_arrival<t_departure:\n",
    "            self.arrival()\n",
    "        else:\n",
    "            self.departure(idx)\n",
    "\n",
    "\n",
    "    def arrival(self):              \n",
    "        self.num_arrivals += 1\n",
    "        self.num_in_system += 1\n",
    "\n",
    "        accepted = False\n",
    "        for idx, status in enumerate(self.states):\n",
    "            if status==0:\n",
    "                accepted = True\n",
    "                self.dep=self.gen_service_time()\n",
    "                self.dep_sums[idx] += self.dep\n",
    "                self.t_departures[idx]=self.clock + self.dep\n",
    "                break\n",
    "\n",
    "        self.t_arrival=self.clock+self.gen_arrival_time()\n",
    "        if not accepted:\n",
    "            self.lost_customers += 1\n",
    "\n",
    "\n",
    "    def departure(self, idx: int):\n",
    "        self.num_of_departures[idx] += 1\n",
    "        self.t_departures[idx]=100000. # (100.000 as infinite)\n",
    "        self.states[idx]=0                  \n",
    "\n",
    "\n",
    "    def gen_arrival_time(self):         #function to generate arrival times \n",
    "        if self.arrival_mtd=='erlang':\n",
    "            return (np.random.gamma(self.param_arrival)) # Erlang distribution (using Gamma with shape=int)\n",
    "        elif self.arrival_mtd=='hyperexp': # Hyper Exponential distribution p1 = 0.8, λ1 = 0.8333, p2 = 0.2, λ2 = 5.0\n",
    "            if np.random.uniform() <= 0.8: #p1\n",
    "                return (np.random.exponential(scale=1./0.833)) #λ1\n",
    "            else: #p2\n",
    "                return (np.random.exponential(scale=1./5.)) #λ2\n",
    "        else:\n",
    "            return (np.random.poisson()) # Poisson distribution\n",
    "\n",
    "    \n",
    "    def gen_service_time(self):         #function to generate service time\n",
    "        if self.service_mtd=='constant':\n",
    "            return self.param_service\n",
    "        if self.service_mtd=='pareto': # Pareto distribution\n",
    "            return (np.random.pareto(self.param_service))\n",
    "        if self.service_mtd=='normal':\n",
    "            return (np.random.normal(loc=self.param_service)) # Normal Distribution\n",
    "        else:\n",
    "            return (np.random.exponential()) # Exponential distribution (lamda=1)\n",
    "    "
   ]
  },
  {
   "source": [
    "Write a discrete event simulation program for a blocking system, i.e. a system with m service units and no waiting room. The offered traffic A is the product of the mean arrival rate and the mean service time.\n",
    "\n",
    "1. The arrival process is modelled as a Poisson process. Report the fraction of blocked customers, and a confidence interval for this fraction. Choose the service time distribution as exponential. Parameters: m = 10, mean service time = 8 time units, mean time between customers = 1 time unit (corresponding to an offered traffic of 8 erlang), 10 x 10.000 customers."
   ],
   "cell_type": "markdown",
   "metadata": {}
  },
  {
   "cell_type": "code",
   "execution_count": 3,
   "metadata": {},
   "outputs": [
    {
     "output_type": "stream",
     "name": "stderr",
     "text": [
      "<ipython-input-3-9f26462e99ff>:20: RuntimeWarning: invalid value encountered in long_scalars\n  s.dep_sums[0]/s.num_of_departures[0],s.dep_sums[1]/s.num_of_departures[1],s.dep_sums[2]/s.num_of_departures[2],\n<ipython-input-3-9f26462e99ff>:21: RuntimeWarning: invalid value encountered in long_scalars\n  s.dep_sums[3]/s.num_of_departures[3],s.dep_sums[4]/s.num_of_departures[4],s.dep_sums[5]/s.num_of_departures[5],\n<ipython-input-3-9f26462e99ff>:22: RuntimeWarning: invalid value encountered in long_scalars\n  s.dep_sums[6]/s.num_of_departures[6],s.dep_sums[7]/s.num_of_departures[7],s.dep_sums[8]/s.num_of_departures[8],\n<ipython-input-3-9f26462e99ff>:23: RuntimeWarning: invalid value encountered in long_scalars\n  s.dep_sums[9]/s.num_of_departures[9],\n"
     ]
    }
   ],
   "source": [
    "m = 10\n",
    "mu_service = 8\n",
    "mu_arrival = 1\n",
    "s=Blocking_System(m, mu_service, mu_arrival)\n",
    "df=pd.DataFrame(columns=['Fraction of blocked customers','Average interarrival time','Total Customers','Blocked Customers',\n",
    "                         'Average service time unit 1','Average service time unit 2',\n",
    "                         'Average service time unit 3','Average service time unit 4','Average service time unit 5',\n",
    "                         'Average service time unit 6','Average service time unit 7','Average service time unit 8',\n",
    "                         'Average service time unit 9','Average service time unit 10',\n",
    "                         'Utilization unit 1','Utilization unit 2','Utilization unit 3','Utilization unit 4',\n",
    "                         'Utilization unit 5','Utilization unit 6','Utilization unit 7','Utilization unit 8',\n",
    "                         'Utilization unit 9','Utilization unit 10'])\n",
    "\n",
    "for i in range(10):\n",
    "    np.random.seed(i)\n",
    "    s.__init__(m, mu_service, mu_arrival)\n",
    "    while s.clock <= 10000 :\n",
    "        s.time_adv() \n",
    "    a=pd.Series([s.lost_customers/s.num_arrivals,s.clock/s.num_arrivals,s.num_arrivals,s.lost_customers,\n",
    "                 s.dep_sums[0]/s.num_of_departures[0],s.dep_sums[1]/s.num_of_departures[1],s.dep_sums[2]/s.num_of_departures[2],\n",
    "                 s.dep_sums[3]/s.num_of_departures[3],s.dep_sums[4]/s.num_of_departures[4],s.dep_sums[5]/s.num_of_departures[5],\n",
    "                 s.dep_sums[6]/s.num_of_departures[6],s.dep_sums[7]/s.num_of_departures[7],s.dep_sums[8]/s.num_of_departures[8],\n",
    "                 s.dep_sums[9]/s.num_of_departures[9],\n",
    "                 s.dep_sums[0]/s.clock,s.dep_sums[1]/s.clock,s.dep_sums[2]/s.clock,s.dep_sums[3]/s.clock,s.dep_sums[4]/s.clock,\n",
    "                 s.dep_sums[5]/s.clock,s.dep_sums[6]/s.clock,s.dep_sums[7]/s.clock,s.dep_sums[8]/s.clock,s.dep_sums[9]/s.clock\n",
    "                 ],index=df.columns)\n",
    "    df=df.append(a,ignore_index=True)   \n",
    "    \n",
    "df.to_excel('ex4_p1.xlsx')   "
   ]
  },
  {
   "source": [
    "2. The arrival process is modelled as a renewal process using the same parameters as in Part 1 when possible. Report the fraction of blocked customers, and a confidence interval for this fraction for at least the following two cases\n",
    "- (a) Experiment with Erlang distributed inter arrival times The Erlang distribution should have a mean of 1"
   ],
   "cell_type": "markdown",
   "metadata": {}
  },
  {
   "cell_type": "code",
   "execution_count": 4,
   "metadata": {},
   "outputs": [
    {
     "output_type": "stream",
     "name": "stderr",
     "text": [
      "<ipython-input-4-74bd704baf1c>:20: RuntimeWarning: invalid value encountered in long_scalars\n  s.dep_sums[0]/s.num_of_departures[0],s.dep_sums[1]/s.num_of_departures[1],s.dep_sums[2]/s.num_of_departures[2],\n<ipython-input-4-74bd704baf1c>:21: RuntimeWarning: invalid value encountered in long_scalars\n  s.dep_sums[3]/s.num_of_departures[3],s.dep_sums[4]/s.num_of_departures[4],s.dep_sums[5]/s.num_of_departures[5],\n<ipython-input-4-74bd704baf1c>:22: RuntimeWarning: invalid value encountered in long_scalars\n  s.dep_sums[6]/s.num_of_departures[6],s.dep_sums[7]/s.num_of_departures[7],s.dep_sums[8]/s.num_of_departures[8],\n<ipython-input-4-74bd704baf1c>:23: RuntimeWarning: invalid value encountered in long_scalars\n  s.dep_sums[9]/s.num_of_departures[9],\n"
     ]
    }
   ],
   "source": [
    "m = 10\n",
    "mu_service = 8\n",
    "mu_arrival = 1\n",
    "s=Blocking_System(m, mu_service, mu_arrival, arrival_method='erlang')\n",
    "df=pd.DataFrame(columns=['Fraction of blocked customers','Average interarrival time','Total Customers','Blocked Customers',\n",
    "                         'Average service time unit 1','Average service time unit 2',\n",
    "                         'Average service time unit 3','Average service time unit 4','Average service time unit 5',\n",
    "                         'Average service time unit 6','Average service time unit 7','Average service time unit 8',\n",
    "                         'Average service time unit 9','Average service time unit 10',\n",
    "                         'Utilization unit 1','Utilization unit 2','Utilization unit 3','Utilization unit 4',\n",
    "                         'Utilization unit 5','Utilization unit 6','Utilization unit 7','Utilization unit 8',\n",
    "                         'Utilization unit 9','Utilization unit 10'])\n",
    "\n",
    "for i in range(10):\n",
    "    np.random.seed(i)\n",
    "    s.__init__(m, mu_service, mu_arrival, arrival_method='erlang')\n",
    "    while s.clock <= 10000 :\n",
    "        s.time_adv() \n",
    "    a=pd.Series([s.lost_customers/s.num_arrivals,s.clock/s.num_arrivals,s.num_arrivals,s.lost_customers,\n",
    "                 s.dep_sums[0]/s.num_of_departures[0],s.dep_sums[1]/s.num_of_departures[1],s.dep_sums[2]/s.num_of_departures[2],\n",
    "                 s.dep_sums[3]/s.num_of_departures[3],s.dep_sums[4]/s.num_of_departures[4],s.dep_sums[5]/s.num_of_departures[5],\n",
    "                 s.dep_sums[6]/s.num_of_departures[6],s.dep_sums[7]/s.num_of_departures[7],s.dep_sums[8]/s.num_of_departures[8],\n",
    "                 s.dep_sums[9]/s.num_of_departures[9],\n",
    "                 s.dep_sums[0]/s.clock,s.dep_sums[1]/s.clock,s.dep_sums[2]/s.clock,s.dep_sums[3]/s.clock,s.dep_sums[4]/s.clock,\n",
    "                 s.dep_sums[5]/s.clock,s.dep_sums[6]/s.clock,s.dep_sums[7]/s.clock,s.dep_sums[8]/s.clock,s.dep_sums[9]/s.clock\n",
    "                 ],index=df.columns)\n",
    "    df=df.append(a,ignore_index=True)   \n",
    "    \n",
    "df.to_excel('ex4_p2a.xlsx')   "
   ]
  },
  {
   "source": [
    "2. The arrival process is modelled as a renewal process using the same parameters as in Part 1 when possible. Report the fraction of blocked customers, and a confidence interval for this fraction for at least the following two cases\n",
    "- (b) hyper exponential inter arrival times. The parameters for the hyper exponential distribution should be p1 = 0.8, λ1 = 0.8333, p2 = 0.2, λ2 = 5.0."
   ],
   "cell_type": "markdown",
   "metadata": {}
  },
  {
   "cell_type": "code",
   "execution_count": 5,
   "metadata": {},
   "outputs": [
    {
     "output_type": "stream",
     "name": "stderr",
     "text": [
      "<ipython-input-5-7b164fbdf879>:20: RuntimeWarning: invalid value encountered in long_scalars\n  s.dep_sums[0]/s.num_of_departures[0],s.dep_sums[1]/s.num_of_departures[1],s.dep_sums[2]/s.num_of_departures[2],\n<ipython-input-5-7b164fbdf879>:21: RuntimeWarning: invalid value encountered in long_scalars\n  s.dep_sums[3]/s.num_of_departures[3],s.dep_sums[4]/s.num_of_departures[4],s.dep_sums[5]/s.num_of_departures[5],\n<ipython-input-5-7b164fbdf879>:22: RuntimeWarning: invalid value encountered in long_scalars\n  s.dep_sums[6]/s.num_of_departures[6],s.dep_sums[7]/s.num_of_departures[7],s.dep_sums[8]/s.num_of_departures[8],\n<ipython-input-5-7b164fbdf879>:23: RuntimeWarning: invalid value encountered in long_scalars\n  s.dep_sums[9]/s.num_of_departures[9],\n"
     ]
    }
   ],
   "source": [
    "m = 10\n",
    "mu_service = 8\n",
    "mu_arrival = 1\n",
    "s=Blocking_System(m, mu_service, mu_arrival, arrival_method='hyperexp')\n",
    "df=pd.DataFrame(columns=['Fraction of blocked customers','Average interarrival time','Total Customers','Blocked Customers',\n",
    "                         'Average service time unit 1','Average service time unit 2',\n",
    "                         'Average service time unit 3','Average service time unit 4','Average service time unit 5',\n",
    "                         'Average service time unit 6','Average service time unit 7','Average service time unit 8',\n",
    "                         'Average service time unit 9','Average service time unit 10',\n",
    "                         'Utilization unit 1','Utilization unit 2','Utilization unit 3','Utilization unit 4',\n",
    "                         'Utilization unit 5','Utilization unit 6','Utilization unit 7','Utilization unit 8',\n",
    "                         'Utilization unit 9','Utilization unit 10'])\n",
    "\n",
    "for i in range(10):\n",
    "    np.random.seed(i)\n",
    "    s.__init__(m, mu_service, mu_arrival, arrival_method='hyperexp')\n",
    "    while s.clock <= 10000 :\n",
    "        s.time_adv() \n",
    "    a=pd.Series([s.lost_customers/s.num_in_system,s.clock/s.num_arrivals,s.num_arrivals,s.lost_customers,\n",
    "                 s.dep_sums[0]/s.num_of_departures[0],s.dep_sums[1]/s.num_of_departures[1],s.dep_sums[2]/s.num_of_departures[2],\n",
    "                 s.dep_sums[3]/s.num_of_departures[3],s.dep_sums[4]/s.num_of_departures[4],s.dep_sums[5]/s.num_of_departures[5],\n",
    "                 s.dep_sums[6]/s.num_of_departures[6],s.dep_sums[7]/s.num_of_departures[7],s.dep_sums[8]/s.num_of_departures[8],\n",
    "                 s.dep_sums[9]/s.num_of_departures[9],\n",
    "                 s.dep_sums[0]/s.clock,s.dep_sums[1]/s.clock,s.dep_sums[2]/s.clock,s.dep_sums[3]/s.clock,s.dep_sums[4]/s.clock,\n",
    "                 s.dep_sums[5]/s.clock,s.dep_sums[6]/s.clock,s.dep_sums[7]/s.clock,s.dep_sums[8]/s.clock,s.dep_sums[9]/s.clock\n",
    "                 ],index=df.columns)\n",
    "    df=df.append(a,ignore_index=True)   \n",
    "    \n",
    "df.to_excel('ex4_p2b.xlsx')   "
   ]
  },
  {
   "source": [
    "3. The arrival process is again a Poisson process like in Part 1. Experiment with different service time distributions with the same mean service time and m as in Part 1 and Part 2.\n",
    "- (a) Constant service time\n",
    "- (b) Pareto distributed service times with at least k = 1.05 and k = 2.05.\n",
    "- (c) Choose one or two other distributions."
   ],
   "cell_type": "markdown",
   "metadata": {}
  },
  {
   "cell_type": "code",
   "execution_count": 6,
   "metadata": {},
   "outputs": [
    {
     "output_type": "stream",
     "name": "stderr",
     "text": [
      "<ipython-input-6-964008fb1b3b>:20: RuntimeWarning: divide by zero encountered in long_scalars\n  s.dep_sums[0]/s.num_of_departures[0],s.dep_sums[1]/s.num_of_departures[1],s.dep_sums[2]/s.num_of_departures[2],\n<ipython-input-6-964008fb1b3b>:20: RuntimeWarning: invalid value encountered in long_scalars\n  s.dep_sums[0]/s.num_of_departures[0],s.dep_sums[1]/s.num_of_departures[1],s.dep_sums[2]/s.num_of_departures[2],\n<ipython-input-6-964008fb1b3b>:21: RuntimeWarning: invalid value encountered in long_scalars\n  s.dep_sums[3]/s.num_of_departures[3],s.dep_sums[4]/s.num_of_departures[4],s.dep_sums[5]/s.num_of_departures[5],\n<ipython-input-6-964008fb1b3b>:22: RuntimeWarning: invalid value encountered in long_scalars\n  s.dep_sums[6]/s.num_of_departures[6],s.dep_sums[7]/s.num_of_departures[7],s.dep_sums[8]/s.num_of_departures[8],\n<ipython-input-6-964008fb1b3b>:23: RuntimeWarning: invalid value encountered in long_scalars\n  s.dep_sums[9]/s.num_of_departures[9],\n"
     ]
    }
   ],
   "source": [
    "m = 10\n",
    "mu_service = 8.\n",
    "mu_arrival = 1\n",
    "s=Blocking_System(m, mu_service, mu_arrival, service_method='constant')\n",
    "df=pd.DataFrame(columns=['Fraction of blocked customers','Average interarrival time','Total Customers','Blocked Customers',\n",
    "                         'Average service time unit 1','Average service time unit 2',\n",
    "                         'Average service time unit 3','Average service time unit 4','Average service time unit 5',\n",
    "                         'Average service time unit 6','Average service time unit 7','Average service time unit 8',\n",
    "                         'Average service time unit 9','Average service time unit 10',\n",
    "                         'Utilization unit 1','Utilization unit 2','Utilization unit 3','Utilization unit 4',\n",
    "                         'Utilization unit 5','Utilization unit 6','Utilization unit 7','Utilization unit 8',\n",
    "                         'Utilization unit 9','Utilization unit 10'])\n",
    "\n",
    "for i in range(10):\n",
    "    np.random.seed(i)\n",
    "    s.__init__(m, mu_service, mu_arrival, service_method='constant')\n",
    "    while s.clock <= 10000 :\n",
    "        s.time_adv() \n",
    "    a=pd.Series([s.lost_customers/s.num_in_system,s.clock/s.num_arrivals,s.num_arrivals,s.lost_customers,\n",
    "                 s.dep_sums[0]/s.num_of_departures[0],s.dep_sums[1]/s.num_of_departures[1],s.dep_sums[2]/s.num_of_departures[2],\n",
    "                 s.dep_sums[3]/s.num_of_departures[3],s.dep_sums[4]/s.num_of_departures[4],s.dep_sums[5]/s.num_of_departures[5],\n",
    "                 s.dep_sums[6]/s.num_of_departures[6],s.dep_sums[7]/s.num_of_departures[7],s.dep_sums[8]/s.num_of_departures[8],\n",
    "                 s.dep_sums[9]/s.num_of_departures[9],\n",
    "                 s.dep_sums[0]/s.clock,s.dep_sums[1]/s.clock,s.dep_sums[2]/s.clock,s.dep_sums[3]/s.clock,s.dep_sums[4]/s.clock,\n",
    "                 s.dep_sums[5]/s.clock,s.dep_sums[6]/s.clock,s.dep_sums[7]/s.clock,s.dep_sums[8]/s.clock,s.dep_sums[9]/s.clock\n",
    "                 ],index=df.columns)\n",
    "    df=df.append(a,ignore_index=True)   \n",
    "    \n",
    "df.to_excel('ex4_p3a.xlsx')   "
   ]
  },
  {
   "cell_type": "code",
   "execution_count": 7,
   "metadata": {},
   "outputs": [
    {
     "output_type": "stream",
     "name": "stderr",
     "text": [
      "<ipython-input-7-924c2277d332>:20: RuntimeWarning: invalid value encountered in long_scalars\n  s.dep_sums[0]/s.num_of_departures[0],s.dep_sums[1]/s.num_of_departures[1],s.dep_sums[2]/s.num_of_departures[2],\n<ipython-input-7-924c2277d332>:21: RuntimeWarning: invalid value encountered in long_scalars\n  s.dep_sums[3]/s.num_of_departures[3],s.dep_sums[4]/s.num_of_departures[4],s.dep_sums[5]/s.num_of_departures[5],\n<ipython-input-7-924c2277d332>:22: RuntimeWarning: invalid value encountered in long_scalars\n  s.dep_sums[6]/s.num_of_departures[6],s.dep_sums[7]/s.num_of_departures[7],s.dep_sums[8]/s.num_of_departures[8],\n<ipython-input-7-924c2277d332>:23: RuntimeWarning: invalid value encountered in long_scalars\n  s.dep_sums[9]/s.num_of_departures[9],\n"
     ]
    }
   ],
   "source": [
    "m = 10\n",
    "k = 1.05\n",
    "mu_arrival = 1\n",
    "s=Blocking_System(m, k, mu_arrival, service_method='pareto')\n",
    "df=pd.DataFrame(columns=['Fraction of blocked customers','Average interarrival time','Total Customers','Blocked Customers',\n",
    "                         'Average service time unit 1','Average service time unit 2',\n",
    "                         'Average service time unit 3','Average service time unit 4','Average service time unit 5',\n",
    "                         'Average service time unit 6','Average service time unit 7','Average service time unit 8',\n",
    "                         'Average service time unit 9','Average service time unit 10',\n",
    "                         'Utilization unit 1','Utilization unit 2','Utilization unit 3','Utilization unit 4',\n",
    "                         'Utilization unit 5','Utilization unit 6','Utilization unit 7','Utilization unit 8',\n",
    "                         'Utilization unit 9','Utilization unit 10'])\n",
    "\n",
    "for i in range(10):\n",
    "    np.random.seed(i)\n",
    "    s.__init__(m, k, mu_arrival, service_method='pareto')\n",
    "    while s.clock <= 10000 :\n",
    "        s.time_adv() \n",
    "    a=pd.Series([s.lost_customers/s.num_in_system,s.clock/s.num_arrivals,s.num_arrivals,s.lost_customers,\n",
    "                 s.dep_sums[0]/s.num_of_departures[0],s.dep_sums[1]/s.num_of_departures[1],s.dep_sums[2]/s.num_of_departures[2],\n",
    "                 s.dep_sums[3]/s.num_of_departures[3],s.dep_sums[4]/s.num_of_departures[4],s.dep_sums[5]/s.num_of_departures[5],\n",
    "                 s.dep_sums[6]/s.num_of_departures[6],s.dep_sums[7]/s.num_of_departures[7],s.dep_sums[8]/s.num_of_departures[8],\n",
    "                 s.dep_sums[9]/s.num_of_departures[9],\n",
    "                 s.dep_sums[0]/s.clock,s.dep_sums[1]/s.clock,s.dep_sums[2]/s.clock,s.dep_sums[3]/s.clock,s.dep_sums[4]/s.clock,\n",
    "                 s.dep_sums[5]/s.clock,s.dep_sums[6]/s.clock,s.dep_sums[7]/s.clock,s.dep_sums[8]/s.clock,s.dep_sums[9]/s.clock\n",
    "                 ],index=df.columns)\n",
    "    df=df.append(a,ignore_index=True)   \n",
    "    \n",
    "df.to_excel('ex4_p3b1.xlsx')   "
   ]
  },
  {
   "cell_type": "code",
   "execution_count": 8,
   "metadata": {},
   "outputs": [
    {
     "output_type": "stream",
     "name": "stderr",
     "text": [
      "<ipython-input-8-deebd5346fa0>:20: RuntimeWarning: invalid value encountered in long_scalars\n  s.dep_sums[0]/s.num_of_departures[0],s.dep_sums[1]/s.num_of_departures[1],s.dep_sums[2]/s.num_of_departures[2],\n<ipython-input-8-deebd5346fa0>:21: RuntimeWarning: invalid value encountered in long_scalars\n  s.dep_sums[3]/s.num_of_departures[3],s.dep_sums[4]/s.num_of_departures[4],s.dep_sums[5]/s.num_of_departures[5],\n<ipython-input-8-deebd5346fa0>:22: RuntimeWarning: invalid value encountered in long_scalars\n  s.dep_sums[6]/s.num_of_departures[6],s.dep_sums[7]/s.num_of_departures[7],s.dep_sums[8]/s.num_of_departures[8],\n<ipython-input-8-deebd5346fa0>:23: RuntimeWarning: invalid value encountered in long_scalars\n  s.dep_sums[9]/s.num_of_departures[9],\n"
     ]
    }
   ],
   "source": [
    "m = 10\n",
    "k = 2.05\n",
    "mu_arrival = 1\n",
    "s=Blocking_System(m, k, mu_arrival, service_method='pareto')\n",
    "df=pd.DataFrame(columns=['Fraction of blocked customers','Average interarrival time','Total Customers','Blocked Customers',\n",
    "                         'Average service time unit 1','Average service time unit 2',\n",
    "                         'Average service time unit 3','Average service time unit 4','Average service time unit 5',\n",
    "                         'Average service time unit 6','Average service time unit 7','Average service time unit 8',\n",
    "                         'Average service time unit 9','Average service time unit 10',\n",
    "                         'Utilization unit 1','Utilization unit 2','Utilization unit 3','Utilization unit 4',\n",
    "                         'Utilization unit 5','Utilization unit 6','Utilization unit 7','Utilization unit 8',\n",
    "                         'Utilization unit 9','Utilization unit 10'])\n",
    "\n",
    "for i in range(10):\n",
    "    np.random.seed(i)\n",
    "    s.__init__(m, k, mu_arrival, service_method='pareto')\n",
    "    while s.clock <= 10000 :\n",
    "        s.time_adv() \n",
    "    a=pd.Series([s.lost_customers/s.num_in_system,s.clock/s.num_arrivals,s.num_arrivals,s.lost_customers,\n",
    "                 s.dep_sums[0]/s.num_of_departures[0],s.dep_sums[1]/s.num_of_departures[1],s.dep_sums[2]/s.num_of_departures[2],\n",
    "                 s.dep_sums[3]/s.num_of_departures[3],s.dep_sums[4]/s.num_of_departures[4],s.dep_sums[5]/s.num_of_departures[5],\n",
    "                 s.dep_sums[6]/s.num_of_departures[6],s.dep_sums[7]/s.num_of_departures[7],s.dep_sums[8]/s.num_of_departures[8],\n",
    "                 s.dep_sums[9]/s.num_of_departures[9],\n",
    "                 s.dep_sums[0]/s.clock,s.dep_sums[1]/s.clock,s.dep_sums[2]/s.clock,s.dep_sums[3]/s.clock,s.dep_sums[4]/s.clock,\n",
    "                 s.dep_sums[5]/s.clock,s.dep_sums[6]/s.clock,s.dep_sums[7]/s.clock,s.dep_sums[8]/s.clock,s.dep_sums[9]/s.clock\n",
    "                 ],index=df.columns)\n",
    "    df=df.append(a,ignore_index=True)   \n",
    "    \n",
    "df.to_excel('ex4_p3b2.xlsx')   "
   ]
  },
  {
   "cell_type": "code",
   "execution_count": 9,
   "metadata": {},
   "outputs": [
    {
     "output_type": "stream",
     "name": "stderr",
     "text": [
      "<ipython-input-9-2a6ad09c5a33>:20: RuntimeWarning: divide by zero encountered in long_scalars\n  s.dep_sums[0]/s.num_of_departures[0],s.dep_sums[1]/s.num_of_departures[1],s.dep_sums[2]/s.num_of_departures[2],\n<ipython-input-9-2a6ad09c5a33>:20: RuntimeWarning: invalid value encountered in long_scalars\n  s.dep_sums[0]/s.num_of_departures[0],s.dep_sums[1]/s.num_of_departures[1],s.dep_sums[2]/s.num_of_departures[2],\n<ipython-input-9-2a6ad09c5a33>:21: RuntimeWarning: invalid value encountered in long_scalars\n  s.dep_sums[3]/s.num_of_departures[3],s.dep_sums[4]/s.num_of_departures[4],s.dep_sums[5]/s.num_of_departures[5],\n<ipython-input-9-2a6ad09c5a33>:22: RuntimeWarning: invalid value encountered in long_scalars\n  s.dep_sums[6]/s.num_of_departures[6],s.dep_sums[7]/s.num_of_departures[7],s.dep_sums[8]/s.num_of_departures[8],\n<ipython-input-9-2a6ad09c5a33>:23: RuntimeWarning: invalid value encountered in long_scalars\n  s.dep_sums[9]/s.num_of_departures[9],\n"
     ]
    }
   ],
   "source": [
    "m = 10\n",
    "mu_service = 8.\n",
    "mu_arrival = 1\n",
    "s=Blocking_System(m, mu_service, mu_arrival, service_method='normal')\n",
    "df=pd.DataFrame(columns=['Fraction of blocked customers','Average interarrival time','Total Customers','Blocked Customers',\n",
    "                         'Average service time unit 1','Average service time unit 2',\n",
    "                         'Average service time unit 3','Average service time unit 4','Average service time unit 5',\n",
    "                         'Average service time unit 6','Average service time unit 7','Average service time unit 8',\n",
    "                         'Average service time unit 9','Average service time unit 10',\n",
    "                         'Utilization unit 1','Utilization unit 2','Utilization unit 3','Utilization unit 4',\n",
    "                         'Utilization unit 5','Utilization unit 6','Utilization unit 7','Utilization unit 8',\n",
    "                         'Utilization unit 9','Utilization unit 10'])\n",
    "\n",
    "for i in range(10):\n",
    "    np.random.seed(i)\n",
    "    s.__init__(m, mu_service, mu_arrival, service_method='normal')\n",
    "    while s.clock <= 10000 :\n",
    "        s.time_adv() \n",
    "    a=pd.Series([s.lost_customers/s.num_in_system,s.clock/s.num_arrivals,s.num_arrivals,s.lost_customers,\n",
    "                 s.dep_sums[0]/s.num_of_departures[0],s.dep_sums[1]/s.num_of_departures[1],s.dep_sums[2]/s.num_of_departures[2],\n",
    "                 s.dep_sums[3]/s.num_of_departures[3],s.dep_sums[4]/s.num_of_departures[4],s.dep_sums[5]/s.num_of_departures[5],\n",
    "                 s.dep_sums[6]/s.num_of_departures[6],s.dep_sums[7]/s.num_of_departures[7],s.dep_sums[8]/s.num_of_departures[8],\n",
    "                 s.dep_sums[9]/s.num_of_departures[9],\n",
    "                 s.dep_sums[0]/s.clock,s.dep_sums[1]/s.clock,s.dep_sums[2]/s.clock,s.dep_sums[3]/s.clock,s.dep_sums[4]/s.clock,\n",
    "                 s.dep_sums[5]/s.clock,s.dep_sums[6]/s.clock,s.dep_sums[7]/s.clock,s.dep_sums[8]/s.clock,s.dep_sums[9]/s.clock\n",
    "                 ],index=df.columns)\n",
    "    df=df.append(a,ignore_index=True)   \n",
    "    \n",
    "df.to_excel('ex4_p3c.xlsx')   "
   ]
  },
  {
   "source": [
    "4. Compare confidence intervals for Parts 1, 2, and 3 and try explain differences if any.\n",
    "\n",
    "**Response**\n"
   ],
   "cell_type": "markdown",
   "metadata": {}
  }
 ]
}