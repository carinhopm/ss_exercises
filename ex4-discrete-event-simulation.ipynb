{
 "metadata": {
  "language_info": {
   "codemirror_mode": {
    "name": "ipython",
    "version": 3
   },
   "file_extension": ".py",
   "mimetype": "text/x-python",
   "name": "python",
   "nbconvert_exporter": "python",
   "pygments_lexer": "ipython3",
   "version": "3.8.5"
  },
  "orig_nbformat": 2,
  "kernelspec": {
   "name": "python3",
   "display_name": "Python 3.8.5 64-bit ('base': conda)"
  },
  "interpreter": {
   "hash": "9bacb6458dda4b42c6a07503ac3588add1d91b29c1d69c745adbc07a0974aff1"
  }
 },
 "nbformat": 4,
 "nbformat_minor": 2,
 "cells": [
  {
   "cell_type": "code",
   "execution_count": 1,
   "metadata": {},
   "outputs": [],
   "source": [
    "import numpy as np\n",
    "import pandas as pd\n",
    "import math"
   ]
  },
  {
   "cell_type": "code",
   "execution_count": 2,
   "metadata": {},
   "outputs": [],
   "source": [
    "class Blocking_System:\n",
    "    def __init__(self, m: int, service, arrival, \n",
    "                 arrival_method: str = 'poisson', service_method: str = 'exp'): \n",
    "        self.clock=0.0                      #simulation clock\n",
    "        self.num_service_units=m            #system with m service units\n",
    "        self.arrival_mtd=arrival_method     #arrival distribution\n",
    "        self.service_mtd=service_method     #service distribution\n",
    "        self.param_service=service          #parameter for service dist.\n",
    "        self.param_arrival=arrival          #parameter for arrival dist.\n",
    "        self.num_arrivals=0                 #total number of arrivals\n",
    "        self.t_arrival=self.gen_arrival_time()   #time of next arrival\n",
    "        self.t_departures=np.ones(m)*100000. #departure times for each service unit (100.000 as infinite)\n",
    "        self.dep_sums=np.zeros((m,), dtype=int) #Sum of service time\n",
    "        self.states=np.zeros((m,), dtype=int) #current states\n",
    "        self.num_of_departures=np.zeros((m,), dtype=int) #number of customers served\n",
    "        self.lost_customers=0               #customers who left without service\n",
    "        self.num_in_system=0                #customers in the system\n",
    "\n",
    "\n",
    "    def time_adv(self):                                                       \n",
    "        t_departure=min(self.t_departures)\n",
    "        idx = list(self.t_departures).index(t_departure)\n",
    "        if self.t_arrival<t_departure:\n",
    "            self.clock=self.t_arrival\n",
    "            self.arrival()\n",
    "        else:\n",
    "            self.clock=t_departure\n",
    "            self.departure(idx)\n",
    "\n",
    "\n",
    "    def arrival(self):              \n",
    "        self.num_arrivals += 1\n",
    "        self.num_in_system += 1\n",
    "\n",
    "        accepted = False\n",
    "        for idx in range(self.num_service_units):\n",
    "            if self.states[idx]==0:\n",
    "                accepted = True\n",
    "                dep=self.gen_service_time()\n",
    "                self.dep_sums[idx] += dep\n",
    "                self.t_departures[idx]=self.clock + dep\n",
    "                self.states[idx]=1\n",
    "                break\n",
    "\n",
    "        self.t_arrival=self.clock+self.gen_arrival_time()\n",
    "        if not accepted:\n",
    "            self.lost_customers += 1\n",
    "\n",
    "\n",
    "    def departure(self, idx: int):\n",
    "        self.num_of_departures[idx] += 1\n",
    "        self.t_departures[idx]=100000. # (100.000 as infinite)\n",
    "        self.states[idx]=0                  \n",
    "\n",
    "\n",
    "    def gen_arrival_time(self):         #function to generate arrival times \n",
    "        if self.arrival_mtd=='erlang':\n",
    "            return (np.random.gamma(self.param_arrival)) # Erlang distribution (using Gamma with shape=int)\n",
    "        elif self.arrival_mtd=='hyperexp': # Hyper Exponential distribution p1 = 0.8, λ1 = 0.8333, p2 = 0.2, λ2 = 5.0\n",
    "            if np.random.uniform() <= 0.8: #p1\n",
    "                return (np.random.exponential(scale=1./0.833)) #λ1\n",
    "            else: #p2\n",
    "                return (np.random.exponential(scale=1./5.)) #λ2\n",
    "        else:\n",
    "            return (np.random.poisson()) # Poisson distribution\n",
    "\n",
    "    \n",
    "    def gen_service_time(self):         #function to generate service time\n",
    "        if self.service_mtd=='constant':\n",
    "            return self.param_service\n",
    "        if self.service_mtd=='pareto': # Pareto distribution\n",
    "            return (np.random.pareto(self.param_service))\n",
    "        if self.service_mtd=='normal':\n",
    "            return (np.random.normal(loc=self.param_service)) # Normal Distribution\n",
    "        else:\n",
    "            return (np.random.exponential()) # Exponential distribution (lamda=1)\n",
    "    "
   ]
  },
  {
   "cell_type": "code",
   "execution_count": 3,
   "metadata": {},
   "outputs": [],
   "source": [
    "results = pd.DataFrame([],columns=['run','mean','count','std','CI low limit','CI high limit','CI range'])"
   ]
  },
  {
   "source": [
    "**Write a discrete event simulation program for a blocking system, i.e. a system with m service units and no waiting room. The offered traffic A is the product of the mean arrival rate and the mean service time.**\n",
    "\n",
    "**1. The arrival process is modelled as a Poisson process. Report the fraction of blocked customers, and a confidence interval for this fraction. Choose the service time distribution as exponential. Parameters: m = 10, mean service time = 8 time units, mean time between customers = 1 time unit (corresponding to an offered traffic of 8 erlang), 10 x 10.000 customers.**"
   ],
   "cell_type": "markdown",
   "metadata": {}
  },
  {
   "cell_type": "code",
   "execution_count": 4,
   "metadata": {
    "tags": []
   },
   "outputs": [
    {
     "output_type": "execute_result",
     "data": {
      "text/plain": [
       "   Fraction of blocked customers  Average interarrival time  Total Customers  \\\n",
       "0                         0.0005                   0.993201          10001.0   \n",
       "1                         0.0001                   0.991801          10001.0   \n",
       "2                         0.0002                   0.996800          10001.0   \n",
       "3                         0.0000                   1.006099          10001.0   \n",
       "4                         0.0000                   0.986401          10001.0   \n",
       "5                         0.0000                   1.019698          10001.0   \n",
       "6                         0.0002                   1.004200          10001.0   \n",
       "7                         0.0001                   0.985001          10001.0   \n",
       "8                         0.0004                   0.989101          10001.0   \n",
       "9                         0.0001                   0.999000          10001.0   \n",
       "\n",
       "   Blocked Customers  \n",
       "0                5.0  \n",
       "1                1.0  \n",
       "2                2.0  \n",
       "3                0.0  \n",
       "4                0.0  \n",
       "5                0.0  \n",
       "6                2.0  \n",
       "7                1.0  \n",
       "8                4.0  \n",
       "9                1.0  "
      ],
      "text/html": "<div>\n<style scoped>\n    .dataframe tbody tr th:only-of-type {\n        vertical-align: middle;\n    }\n\n    .dataframe tbody tr th {\n        vertical-align: top;\n    }\n\n    .dataframe thead th {\n        text-align: right;\n    }\n</style>\n<table border=\"1\" class=\"dataframe\">\n  <thead>\n    <tr style=\"text-align: right;\">\n      <th></th>\n      <th>Fraction of blocked customers</th>\n      <th>Average interarrival time</th>\n      <th>Total Customers</th>\n      <th>Blocked Customers</th>\n    </tr>\n  </thead>\n  <tbody>\n    <tr>\n      <th>0</th>\n      <td>0.0005</td>\n      <td>0.993201</td>\n      <td>10001.0</td>\n      <td>5.0</td>\n    </tr>\n    <tr>\n      <th>1</th>\n      <td>0.0001</td>\n      <td>0.991801</td>\n      <td>10001.0</td>\n      <td>1.0</td>\n    </tr>\n    <tr>\n      <th>2</th>\n      <td>0.0002</td>\n      <td>0.996800</td>\n      <td>10001.0</td>\n      <td>2.0</td>\n    </tr>\n    <tr>\n      <th>3</th>\n      <td>0.0000</td>\n      <td>1.006099</td>\n      <td>10001.0</td>\n      <td>0.0</td>\n    </tr>\n    <tr>\n      <th>4</th>\n      <td>0.0000</td>\n      <td>0.986401</td>\n      <td>10001.0</td>\n      <td>0.0</td>\n    </tr>\n    <tr>\n      <th>5</th>\n      <td>0.0000</td>\n      <td>1.019698</td>\n      <td>10001.0</td>\n      <td>0.0</td>\n    </tr>\n    <tr>\n      <th>6</th>\n      <td>0.0002</td>\n      <td>1.004200</td>\n      <td>10001.0</td>\n      <td>2.0</td>\n    </tr>\n    <tr>\n      <th>7</th>\n      <td>0.0001</td>\n      <td>0.985001</td>\n      <td>10001.0</td>\n      <td>1.0</td>\n    </tr>\n    <tr>\n      <th>8</th>\n      <td>0.0004</td>\n      <td>0.989101</td>\n      <td>10001.0</td>\n      <td>4.0</td>\n    </tr>\n    <tr>\n      <th>9</th>\n      <td>0.0001</td>\n      <td>0.999000</td>\n      <td>10001.0</td>\n      <td>1.0</td>\n    </tr>\n  </tbody>\n</table>\n</div>"
     },
     "metadata": {},
     "execution_count": 4
    }
   ],
   "source": [
    "m = 10\n",
    "mu_service = 8\n",
    "mu_arrival = 1\n",
    "s=Blocking_System(m, mu_service, mu_arrival)\n",
    "df=pd.DataFrame(columns=['Fraction of blocked customers','Average interarrival time','Total Customers','Blocked Customers'])\n",
    "\n",
    "for i in range(10):\n",
    "    np.random.seed(i)\n",
    "    s.__init__(m, mu_service, mu_arrival)\n",
    "    while s.num_in_system <= 10000 :\n",
    "        s.time_adv() \n",
    "    a=pd.Series([s.lost_customers/s.num_arrivals,s.clock/s.num_arrivals,s.num_arrivals,s.lost_customers],index=df.columns)\n",
    "    df=df.append(a,ignore_index=True)   \n",
    "    \n",
    "df  "
   ]
  },
  {
   "cell_type": "code",
   "execution_count": 5,
   "metadata": {},
   "outputs": [
    {
     "output_type": "stream",
     "name": "stdout",
     "text": [
      "mean                             0.00016\ncount                               10.0\nstd                             0.000171\nCI low limit     [5.438206253347918e-05]\nCI high limit    [0.0002655859406662009]\nCI range                        0.000211\nName: Fraction of blocked customers, dtype: object\n"
     ]
    }
   ],
   "source": [
    "stats = df['Fraction of blocked customers'].agg(['mean', 'count', 'std'])\n",
    "ci95_hi = []\n",
    "ci95_lo = []\n",
    "m = stats.loc['mean']\n",
    "c = stats.loc['count']\n",
    "s = stats.loc['std']\n",
    "ci95_hi.append(m + 1.95*s/math.sqrt(c))\n",
    "ci95_lo.append(m - 1.95*s/math.sqrt(c))\n",
    "\n",
    "stats['CI low limit'] = ci95_lo\n",
    "stats['CI high limit'] = ci95_hi\n",
    "stats['CI range'] = ci95_hi[0] - ci95_lo[0]\n",
    "print(stats)\n",
    "\n",
    "stats['run'] = 'Q1 Poisson'\n",
    "results = results.append(stats,ignore_index=True)"
   ]
  },
  {
   "source": [
    "**2. The arrival process is modelled as a renewal process using the same parameters as in Part 1 when possible. Report the fraction of blocked customers, and a confidence interval for this fraction for at least the following two cases**\n",
    "\n",
    "- **(a) Experiment with Erlang distributed inter arrival times The Erlang distribution should have a mean of 1**"
   ],
   "cell_type": "markdown",
   "metadata": {}
  },
  {
   "cell_type": "code",
   "execution_count": 6,
   "metadata": {},
   "outputs": [
    {
     "output_type": "execute_result",
     "data": {
      "text/plain": [
       "   Fraction of blocked customers  Average interarrival time  Total Customers  \\\n",
       "0                            0.0                   0.989077          10001.0   \n",
       "1                            0.0                   0.995992          10001.0   \n",
       "2                            0.0                   0.999760          10001.0   \n",
       "3                            0.0                   1.003446          10001.0   \n",
       "4                            0.0                   1.006480          10001.0   \n",
       "5                            0.0                   1.022823          10001.0   \n",
       "6                            0.0                   0.997917          10001.0   \n",
       "7                            0.0                   0.990758          10001.0   \n",
       "8                            0.0                   0.994180          10001.0   \n",
       "9                            0.0                   0.993435          10001.0   \n",
       "\n",
       "   Blocked Customers  \n",
       "0                0.0  \n",
       "1                0.0  \n",
       "2                0.0  \n",
       "3                0.0  \n",
       "4                0.0  \n",
       "5                0.0  \n",
       "6                0.0  \n",
       "7                0.0  \n",
       "8                0.0  \n",
       "9                0.0  "
      ],
      "text/html": "<div>\n<style scoped>\n    .dataframe tbody tr th:only-of-type {\n        vertical-align: middle;\n    }\n\n    .dataframe tbody tr th {\n        vertical-align: top;\n    }\n\n    .dataframe thead th {\n        text-align: right;\n    }\n</style>\n<table border=\"1\" class=\"dataframe\">\n  <thead>\n    <tr style=\"text-align: right;\">\n      <th></th>\n      <th>Fraction of blocked customers</th>\n      <th>Average interarrival time</th>\n      <th>Total Customers</th>\n      <th>Blocked Customers</th>\n    </tr>\n  </thead>\n  <tbody>\n    <tr>\n      <th>0</th>\n      <td>0.0</td>\n      <td>0.989077</td>\n      <td>10001.0</td>\n      <td>0.0</td>\n    </tr>\n    <tr>\n      <th>1</th>\n      <td>0.0</td>\n      <td>0.995992</td>\n      <td>10001.0</td>\n      <td>0.0</td>\n    </tr>\n    <tr>\n      <th>2</th>\n      <td>0.0</td>\n      <td>0.999760</td>\n      <td>10001.0</td>\n      <td>0.0</td>\n    </tr>\n    <tr>\n      <th>3</th>\n      <td>0.0</td>\n      <td>1.003446</td>\n      <td>10001.0</td>\n      <td>0.0</td>\n    </tr>\n    <tr>\n      <th>4</th>\n      <td>0.0</td>\n      <td>1.006480</td>\n      <td>10001.0</td>\n      <td>0.0</td>\n    </tr>\n    <tr>\n      <th>5</th>\n      <td>0.0</td>\n      <td>1.022823</td>\n      <td>10001.0</td>\n      <td>0.0</td>\n    </tr>\n    <tr>\n      <th>6</th>\n      <td>0.0</td>\n      <td>0.997917</td>\n      <td>10001.0</td>\n      <td>0.0</td>\n    </tr>\n    <tr>\n      <th>7</th>\n      <td>0.0</td>\n      <td>0.990758</td>\n      <td>10001.0</td>\n      <td>0.0</td>\n    </tr>\n    <tr>\n      <th>8</th>\n      <td>0.0</td>\n      <td>0.994180</td>\n      <td>10001.0</td>\n      <td>0.0</td>\n    </tr>\n    <tr>\n      <th>9</th>\n      <td>0.0</td>\n      <td>0.993435</td>\n      <td>10001.0</td>\n      <td>0.0</td>\n    </tr>\n  </tbody>\n</table>\n</div>"
     },
     "metadata": {},
     "execution_count": 6
    }
   ],
   "source": [
    "m = 10\n",
    "mu_service = 8\n",
    "mu_arrival = 1\n",
    "s=Blocking_System(m, mu_service, mu_arrival, arrival_method='erlang')\n",
    "df=pd.DataFrame(columns=['Fraction of blocked customers','Average interarrival time','Total Customers','Blocked Customers'])\n",
    "\n",
    "for i in range(10):\n",
    "    np.random.seed(i)\n",
    "    s.__init__(m, mu_service, mu_arrival, arrival_method='erlang')\n",
    "    while s.num_in_system <= 10000 :\n",
    "        s.time_adv() \n",
    "    a=pd.Series([s.lost_customers/s.num_arrivals,s.clock/s.num_arrivals,s.num_arrivals,s.lost_customers],index=df.columns)\n",
    "    df=df.append(a,ignore_index=True)   \n",
    "    \n",
    "df  "
   ]
  },
  {
   "cell_type": "code",
   "execution_count": 7,
   "metadata": {},
   "outputs": [
    {
     "output_type": "stream",
     "name": "stdout",
     "text": [
      "mean               0.0\ncount             10.0\nstd                0.0\nCI low limit     [0.0]\nCI high limit    [0.0]\nCI range           0.0\nName: Fraction of blocked customers, dtype: object\n"
     ]
    }
   ],
   "source": [
    "stats = df['Fraction of blocked customers'].agg(['mean', 'count', 'std'])\n",
    "ci95_hi = []\n",
    "ci95_lo = []\n",
    "m = stats.loc['mean']\n",
    "c = stats.loc['count']\n",
    "s = stats.loc['std']\n",
    "ci95_hi.append(m + 1.95*s/math.sqrt(c))\n",
    "ci95_lo.append(m - 1.95*s/math.sqrt(c))\n",
    "\n",
    "stats['CI low limit'] = ci95_lo\n",
    "stats['CI high limit'] = ci95_hi\n",
    "stats['CI range'] = ci95_hi[0] - ci95_lo[0]\n",
    "print(stats)\n",
    "\n",
    "stats['run'] = 'Q2 Erlang for arrival'\n",
    "results = results.append(stats,ignore_index=True)"
   ]
  },
  {
   "source": [
    "- **(b) hyper exponential inter arrival times. The parameters for the hyper exponential distribution should be p1 = 0.8, λ1 = 0.8333, p2 = 0.2, λ2 = 5.0.**"
   ],
   "cell_type": "markdown",
   "metadata": {}
  },
  {
   "cell_type": "code",
   "execution_count": 8,
   "metadata": {},
   "outputs": [
    {
     "output_type": "execute_result",
     "data": {
      "text/plain": [
       "   Fraction of blocked customers  Average interarrival time  Total Customers  \\\n",
       "0                            0.0                   0.988889          10001.0   \n",
       "1                            0.0                   0.990259          10001.0   \n",
       "2                            0.0                   1.014987          10001.0   \n",
       "3                            0.0                   1.006684          10001.0   \n",
       "4                            0.0                   1.009461          10001.0   \n",
       "5                            0.0                   1.008191          10001.0   \n",
       "6                            0.0                   1.002576          10001.0   \n",
       "7                            0.0                   0.999442          10001.0   \n",
       "8                            0.0                   0.978068          10001.0   \n",
       "9                            0.0                   1.012754          10001.0   \n",
       "\n",
       "   Blocked Customers  \n",
       "0                0.0  \n",
       "1                0.0  \n",
       "2                0.0  \n",
       "3                0.0  \n",
       "4                0.0  \n",
       "5                0.0  \n",
       "6                0.0  \n",
       "7                0.0  \n",
       "8                0.0  \n",
       "9                0.0  "
      ],
      "text/html": "<div>\n<style scoped>\n    .dataframe tbody tr th:only-of-type {\n        vertical-align: middle;\n    }\n\n    .dataframe tbody tr th {\n        vertical-align: top;\n    }\n\n    .dataframe thead th {\n        text-align: right;\n    }\n</style>\n<table border=\"1\" class=\"dataframe\">\n  <thead>\n    <tr style=\"text-align: right;\">\n      <th></th>\n      <th>Fraction of blocked customers</th>\n      <th>Average interarrival time</th>\n      <th>Total Customers</th>\n      <th>Blocked Customers</th>\n    </tr>\n  </thead>\n  <tbody>\n    <tr>\n      <th>0</th>\n      <td>0.0</td>\n      <td>0.988889</td>\n      <td>10001.0</td>\n      <td>0.0</td>\n    </tr>\n    <tr>\n      <th>1</th>\n      <td>0.0</td>\n      <td>0.990259</td>\n      <td>10001.0</td>\n      <td>0.0</td>\n    </tr>\n    <tr>\n      <th>2</th>\n      <td>0.0</td>\n      <td>1.014987</td>\n      <td>10001.0</td>\n      <td>0.0</td>\n    </tr>\n    <tr>\n      <th>3</th>\n      <td>0.0</td>\n      <td>1.006684</td>\n      <td>10001.0</td>\n      <td>0.0</td>\n    </tr>\n    <tr>\n      <th>4</th>\n      <td>0.0</td>\n      <td>1.009461</td>\n      <td>10001.0</td>\n      <td>0.0</td>\n    </tr>\n    <tr>\n      <th>5</th>\n      <td>0.0</td>\n      <td>1.008191</td>\n      <td>10001.0</td>\n      <td>0.0</td>\n    </tr>\n    <tr>\n      <th>6</th>\n      <td>0.0</td>\n      <td>1.002576</td>\n      <td>10001.0</td>\n      <td>0.0</td>\n    </tr>\n    <tr>\n      <th>7</th>\n      <td>0.0</td>\n      <td>0.999442</td>\n      <td>10001.0</td>\n      <td>0.0</td>\n    </tr>\n    <tr>\n      <th>8</th>\n      <td>0.0</td>\n      <td>0.978068</td>\n      <td>10001.0</td>\n      <td>0.0</td>\n    </tr>\n    <tr>\n      <th>9</th>\n      <td>0.0</td>\n      <td>1.012754</td>\n      <td>10001.0</td>\n      <td>0.0</td>\n    </tr>\n  </tbody>\n</table>\n</div>"
     },
     "metadata": {},
     "execution_count": 8
    }
   ],
   "source": [
    "m = 10\n",
    "mu_service = 8\n",
    "mu_arrival = 1\n",
    "s=Blocking_System(m, mu_service, mu_arrival, arrival_method='hyperexp')\n",
    "df=pd.DataFrame(columns=['Fraction of blocked customers','Average interarrival time','Total Customers','Blocked Customers'])\n",
    "\n",
    "for i in range(10):\n",
    "    np.random.seed(i)\n",
    "    s.__init__(m, mu_service, mu_arrival, arrival_method='hyperexp')\n",
    "    while s.num_in_system <= 10000 :\n",
    "        s.time_adv() \n",
    "    a=pd.Series([s.lost_customers/s.num_arrivals,s.clock/s.num_arrivals,s.num_arrivals,s.lost_customers],index=df.columns)\n",
    "    df=df.append(a,ignore_index=True)   \n",
    "    \n",
    "df    "
   ]
  },
  {
   "cell_type": "code",
   "execution_count": 9,
   "metadata": {},
   "outputs": [
    {
     "output_type": "stream",
     "name": "stdout",
     "text": [
      "mean               0.0\ncount             10.0\nstd                0.0\nCI low limit     [0.0]\nCI high limit    [0.0]\nCI range           0.0\nName: Fraction of blocked customers, dtype: object\n"
     ]
    }
   ],
   "source": [
    "stats = df['Fraction of blocked customers'].agg(['mean', 'count', 'std'])\n",
    "ci95_hi = []\n",
    "ci95_lo = []\n",
    "m = stats.loc['mean']\n",
    "c = stats.loc['count']\n",
    "s = stats.loc['std']\n",
    "ci95_hi.append(m + 1.95*s/math.sqrt(c))\n",
    "ci95_lo.append(m - 1.95*s/math.sqrt(c))\n",
    "\n",
    "stats['CI low limit'] = ci95_lo\n",
    "stats['CI high limit'] = ci95_hi\n",
    "stats['CI range'] = ci95_hi[0] - ci95_lo[0]\n",
    "print(stats)\n",
    "\n",
    "stats['run'] = 'Q2 Hyperexponential for arrival'\n",
    "results = results.append(stats,ignore_index=True)"
   ]
  },
  {
   "source": [
    "**3. The arrival process is again a Poisson process like in Part 1. Experiment with different service time distributions with the same mean service time and m as in Part 1 and Part 2.**\n",
    "\n",
    "- **(a) Constant service time**"
   ],
   "cell_type": "markdown",
   "metadata": {}
  },
  {
   "cell_type": "code",
   "execution_count": 10,
   "metadata": {},
   "outputs": [
    {
     "output_type": "execute_result",
     "data": {
      "text/plain": [
       "   Fraction of blocked customers  Average interarrival time  Total Customers  \\\n",
       "0                       0.108189                   0.990401          10001.0   \n",
       "1                       0.108889                   1.006199          10001.0   \n",
       "2                       0.106989                   0.992801          10001.0   \n",
       "3                       0.112589                   0.993501          10001.0   \n",
       "4                       0.106389                   1.000600          10001.0   \n",
       "5                       0.100290                   1.020798          10001.0   \n",
       "6                       0.102890                   1.006699          10001.0   \n",
       "7                       0.104890                   0.997900          10001.0   \n",
       "8                       0.110089                   0.985201          10001.0   \n",
       "9                       0.104190                   1.002800          10001.0   \n",
       "\n",
       "   Blocked Customers  \n",
       "0             1082.0  \n",
       "1             1089.0  \n",
       "2             1070.0  \n",
       "3             1126.0  \n",
       "4             1064.0  \n",
       "5             1003.0  \n",
       "6             1029.0  \n",
       "7             1049.0  \n",
       "8             1101.0  \n",
       "9             1042.0  "
      ],
      "text/html": "<div>\n<style scoped>\n    .dataframe tbody tr th:only-of-type {\n        vertical-align: middle;\n    }\n\n    .dataframe tbody tr th {\n        vertical-align: top;\n    }\n\n    .dataframe thead th {\n        text-align: right;\n    }\n</style>\n<table border=\"1\" class=\"dataframe\">\n  <thead>\n    <tr style=\"text-align: right;\">\n      <th></th>\n      <th>Fraction of blocked customers</th>\n      <th>Average interarrival time</th>\n      <th>Total Customers</th>\n      <th>Blocked Customers</th>\n    </tr>\n  </thead>\n  <tbody>\n    <tr>\n      <th>0</th>\n      <td>0.108189</td>\n      <td>0.990401</td>\n      <td>10001.0</td>\n      <td>1082.0</td>\n    </tr>\n    <tr>\n      <th>1</th>\n      <td>0.108889</td>\n      <td>1.006199</td>\n      <td>10001.0</td>\n      <td>1089.0</td>\n    </tr>\n    <tr>\n      <th>2</th>\n      <td>0.106989</td>\n      <td>0.992801</td>\n      <td>10001.0</td>\n      <td>1070.0</td>\n    </tr>\n    <tr>\n      <th>3</th>\n      <td>0.112589</td>\n      <td>0.993501</td>\n      <td>10001.0</td>\n      <td>1126.0</td>\n    </tr>\n    <tr>\n      <th>4</th>\n      <td>0.106389</td>\n      <td>1.000600</td>\n      <td>10001.0</td>\n      <td>1064.0</td>\n    </tr>\n    <tr>\n      <th>5</th>\n      <td>0.100290</td>\n      <td>1.020798</td>\n      <td>10001.0</td>\n      <td>1003.0</td>\n    </tr>\n    <tr>\n      <th>6</th>\n      <td>0.102890</td>\n      <td>1.006699</td>\n      <td>10001.0</td>\n      <td>1029.0</td>\n    </tr>\n    <tr>\n      <th>7</th>\n      <td>0.104890</td>\n      <td>0.997900</td>\n      <td>10001.0</td>\n      <td>1049.0</td>\n    </tr>\n    <tr>\n      <th>8</th>\n      <td>0.110089</td>\n      <td>0.985201</td>\n      <td>10001.0</td>\n      <td>1101.0</td>\n    </tr>\n    <tr>\n      <th>9</th>\n      <td>0.104190</td>\n      <td>1.002800</td>\n      <td>10001.0</td>\n      <td>1042.0</td>\n    </tr>\n  </tbody>\n</table>\n</div>"
     },
     "metadata": {},
     "execution_count": 10
    }
   ],
   "source": [
    "m = 10\n",
    "mu_service = 8.\n",
    "mu_arrival = 1\n",
    "s=Blocking_System(m, mu_service, mu_arrival, service_method='constant')\n",
    "df=pd.DataFrame(columns=['Fraction of blocked customers','Average interarrival time','Total Customers','Blocked Customers'])\n",
    "\n",
    "for i in range(10):\n",
    "    np.random.seed(i)\n",
    "    s.__init__(m, mu_service, mu_arrival, service_method='constant')\n",
    "    while s.num_in_system <= 10000 :\n",
    "        s.time_adv() \n",
    "    a=pd.Series([s.lost_customers/s.num_arrivals,s.clock/s.num_arrivals,s.num_arrivals,s.lost_customers],index=df.columns)\n",
    "    df=df.append(a,ignore_index=True)   \n",
    "    \n",
    "df    "
   ]
  },
  {
   "cell_type": "code",
   "execution_count": 11,
   "metadata": {},
   "outputs": [
    {
     "output_type": "stream",
     "name": "stdout",
     "text": [
      "mean                          0.106539\ncount                             10.0\nstd                           0.003625\nCI low limit     [0.10430386251083941]\nCI high limit    [0.10877482961994751]\nCI range                      0.004471\nName: Fraction of blocked customers, dtype: object\n"
     ]
    }
   ],
   "source": [
    "stats = df['Fraction of blocked customers'].agg(['mean', 'count', 'std'])\n",
    "ci95_hi = []\n",
    "ci95_lo = []\n",
    "m = stats.loc['mean']\n",
    "c = stats.loc['count']\n",
    "s = stats.loc['std']\n",
    "ci95_hi.append(m + 1.95*s/math.sqrt(c))\n",
    "ci95_lo.append(m - 1.95*s/math.sqrt(c))\n",
    "\n",
    "stats['CI low limit'] = ci95_lo\n",
    "stats['CI high limit'] = ci95_hi\n",
    "stats['CI range'] = ci95_hi[0] - ci95_lo[0]\n",
    "print(stats)\n",
    "\n",
    "stats['run'] = 'Q3 Constant for service'\n",
    "results = results.append(stats,ignore_index=True)"
   ]
  },
  {
   "source": [
    "- **(b) Pareto distributed service times with at least k = 1.05 and k = 2.05.**"
   ],
   "cell_type": "markdown",
   "metadata": {}
  },
  {
   "cell_type": "code",
   "execution_count": 12,
   "metadata": {},
   "outputs": [
    {
     "output_type": "execute_result",
     "data": {
      "text/plain": [
       "   Fraction of blocked customers  Average interarrival time  Total Customers  \\\n",
       "0                       0.070993                   0.991401          10001.0   \n",
       "1                       0.051495                   0.996700          10001.0   \n",
       "2                       0.064294                   1.000500          10001.0   \n",
       "3                       0.093891                   1.009399          10001.0   \n",
       "4                       0.133187                   0.984302          10001.0   \n",
       "5                       0.110889                   1.019198          10001.0   \n",
       "6                       0.103290                   1.006199          10001.0   \n",
       "7                       0.056194                   0.985001          10001.0   \n",
       "8                       0.029897                   0.989301          10001.0   \n",
       "9                       0.048595                   0.997400          10001.0   \n",
       "\n",
       "   Blocked Customers  \n",
       "0              710.0  \n",
       "1              515.0  \n",
       "2              643.0  \n",
       "3              939.0  \n",
       "4             1332.0  \n",
       "5             1109.0  \n",
       "6             1033.0  \n",
       "7              562.0  \n",
       "8              299.0  \n",
       "9              486.0  "
      ],
      "text/html": "<div>\n<style scoped>\n    .dataframe tbody tr th:only-of-type {\n        vertical-align: middle;\n    }\n\n    .dataframe tbody tr th {\n        vertical-align: top;\n    }\n\n    .dataframe thead th {\n        text-align: right;\n    }\n</style>\n<table border=\"1\" class=\"dataframe\">\n  <thead>\n    <tr style=\"text-align: right;\">\n      <th></th>\n      <th>Fraction of blocked customers</th>\n      <th>Average interarrival time</th>\n      <th>Total Customers</th>\n      <th>Blocked Customers</th>\n    </tr>\n  </thead>\n  <tbody>\n    <tr>\n      <th>0</th>\n      <td>0.070993</td>\n      <td>0.991401</td>\n      <td>10001.0</td>\n      <td>710.0</td>\n    </tr>\n    <tr>\n      <th>1</th>\n      <td>0.051495</td>\n      <td>0.996700</td>\n      <td>10001.0</td>\n      <td>515.0</td>\n    </tr>\n    <tr>\n      <th>2</th>\n      <td>0.064294</td>\n      <td>1.000500</td>\n      <td>10001.0</td>\n      <td>643.0</td>\n    </tr>\n    <tr>\n      <th>3</th>\n      <td>0.093891</td>\n      <td>1.009399</td>\n      <td>10001.0</td>\n      <td>939.0</td>\n    </tr>\n    <tr>\n      <th>4</th>\n      <td>0.133187</td>\n      <td>0.984302</td>\n      <td>10001.0</td>\n      <td>1332.0</td>\n    </tr>\n    <tr>\n      <th>5</th>\n      <td>0.110889</td>\n      <td>1.019198</td>\n      <td>10001.0</td>\n      <td>1109.0</td>\n    </tr>\n    <tr>\n      <th>6</th>\n      <td>0.103290</td>\n      <td>1.006199</td>\n      <td>10001.0</td>\n      <td>1033.0</td>\n    </tr>\n    <tr>\n      <th>7</th>\n      <td>0.056194</td>\n      <td>0.985001</td>\n      <td>10001.0</td>\n      <td>562.0</td>\n    </tr>\n    <tr>\n      <th>8</th>\n      <td>0.029897</td>\n      <td>0.989301</td>\n      <td>10001.0</td>\n      <td>299.0</td>\n    </tr>\n    <tr>\n      <th>9</th>\n      <td>0.048595</td>\n      <td>0.997400</td>\n      <td>10001.0</td>\n      <td>486.0</td>\n    </tr>\n  </tbody>\n</table>\n</div>"
     },
     "metadata": {},
     "execution_count": 12
    }
   ],
   "source": [
    "m = 10\n",
    "k = 1.05\n",
    "mu_arrival = 1\n",
    "s=Blocking_System(m, k, mu_arrival, service_method='pareto')\n",
    "df=pd.DataFrame(columns=['Fraction of blocked customers','Average interarrival time','Total Customers','Blocked Customers'])\n",
    "\n",
    "for i in range(10):\n",
    "    np.random.seed(i)\n",
    "    s.__init__(m, k, mu_arrival, service_method='pareto')\n",
    "    while s.num_in_system <= 10000 :\n",
    "        s.time_adv() \n",
    "    a=pd.Series([s.lost_customers/s.num_arrivals,s.clock/s.num_arrivals,s.num_arrivals,s.lost_customers],index=df.columns)\n",
    "    df=df.append(a,ignore_index=True)   \n",
    "    \n",
    "df    "
   ]
  },
  {
   "cell_type": "code",
   "execution_count": 13,
   "metadata": {},
   "outputs": [
    {
     "output_type": "stream",
     "name": "stdout",
     "text": [
      "mean                          0.076272\ncount                             10.0\nstd                           0.032631\nCI low limit     [0.05615069985495928]\nCI high limit    [0.09639404567048816]\nCI range                      0.040243\nName: Fraction of blocked customers, dtype: object\n"
     ]
    }
   ],
   "source": [
    "stats = df['Fraction of blocked customers'].agg(['mean', 'count', 'std'])\n",
    "ci95_hi = []\n",
    "ci95_lo = []\n",
    "m = stats.loc['mean']\n",
    "c = stats.loc['count']\n",
    "s = stats.loc['std']\n",
    "ci95_hi.append(m + 1.95*s/math.sqrt(c))\n",
    "ci95_lo.append(m - 1.95*s/math.sqrt(c))\n",
    "\n",
    "stats['CI low limit'] = ci95_lo\n",
    "stats['CI high limit'] = ci95_hi\n",
    "stats['CI range'] = ci95_hi[0] - ci95_lo[0]\n",
    "print(stats)\n",
    "\n",
    "stats['run'] = 'Q3 Pareto k=1.05 for service'\n",
    "results = results.append(stats,ignore_index=True)"
   ]
  },
  {
   "cell_type": "code",
   "execution_count": 14,
   "metadata": {},
   "outputs": [
    {
     "output_type": "execute_result",
     "data": {
      "text/plain": [
       "   Fraction of blocked customers  Average interarrival time  Total Customers  \\\n",
       "0                         0.0004                   0.993101          10001.0   \n",
       "1                         0.0003                   0.991701          10001.0   \n",
       "2                         0.0002                   0.996800          10001.0   \n",
       "3                         0.0000                   1.006099          10001.0   \n",
       "4                         0.0000                   0.986401          10001.0   \n",
       "5                         0.0000                   1.019698          10001.0   \n",
       "6                         0.0002                   1.004200          10001.0   \n",
       "7                         0.0001                   0.985001          10001.0   \n",
       "8                         0.0003                   0.989001          10001.0   \n",
       "9                         0.0003                   0.999000          10001.0   \n",
       "\n",
       "   Blocked Customers  \n",
       "0                4.0  \n",
       "1                3.0  \n",
       "2                2.0  \n",
       "3                0.0  \n",
       "4                0.0  \n",
       "5                0.0  \n",
       "6                2.0  \n",
       "7                1.0  \n",
       "8                3.0  \n",
       "9                3.0  "
      ],
      "text/html": "<div>\n<style scoped>\n    .dataframe tbody tr th:only-of-type {\n        vertical-align: middle;\n    }\n\n    .dataframe tbody tr th {\n        vertical-align: top;\n    }\n\n    .dataframe thead th {\n        text-align: right;\n    }\n</style>\n<table border=\"1\" class=\"dataframe\">\n  <thead>\n    <tr style=\"text-align: right;\">\n      <th></th>\n      <th>Fraction of blocked customers</th>\n      <th>Average interarrival time</th>\n      <th>Total Customers</th>\n      <th>Blocked Customers</th>\n    </tr>\n  </thead>\n  <tbody>\n    <tr>\n      <th>0</th>\n      <td>0.0004</td>\n      <td>0.993101</td>\n      <td>10001.0</td>\n      <td>4.0</td>\n    </tr>\n    <tr>\n      <th>1</th>\n      <td>0.0003</td>\n      <td>0.991701</td>\n      <td>10001.0</td>\n      <td>3.0</td>\n    </tr>\n    <tr>\n      <th>2</th>\n      <td>0.0002</td>\n      <td>0.996800</td>\n      <td>10001.0</td>\n      <td>2.0</td>\n    </tr>\n    <tr>\n      <th>3</th>\n      <td>0.0000</td>\n      <td>1.006099</td>\n      <td>10001.0</td>\n      <td>0.0</td>\n    </tr>\n    <tr>\n      <th>4</th>\n      <td>0.0000</td>\n      <td>0.986401</td>\n      <td>10001.0</td>\n      <td>0.0</td>\n    </tr>\n    <tr>\n      <th>5</th>\n      <td>0.0000</td>\n      <td>1.019698</td>\n      <td>10001.0</td>\n      <td>0.0</td>\n    </tr>\n    <tr>\n      <th>6</th>\n      <td>0.0002</td>\n      <td>1.004200</td>\n      <td>10001.0</td>\n      <td>2.0</td>\n    </tr>\n    <tr>\n      <th>7</th>\n      <td>0.0001</td>\n      <td>0.985001</td>\n      <td>10001.0</td>\n      <td>1.0</td>\n    </tr>\n    <tr>\n      <th>8</th>\n      <td>0.0003</td>\n      <td>0.989001</td>\n      <td>10001.0</td>\n      <td>3.0</td>\n    </tr>\n    <tr>\n      <th>9</th>\n      <td>0.0003</td>\n      <td>0.999000</td>\n      <td>10001.0</td>\n      <td>3.0</td>\n    </tr>\n  </tbody>\n</table>\n</div>"
     },
     "metadata": {},
     "execution_count": 14
    }
   ],
   "source": [
    "m = 10\n",
    "k = 2.05\n",
    "mu_arrival = 1\n",
    "s=Blocking_System(m, k, mu_arrival, service_method='pareto')\n",
    "df=pd.DataFrame(columns=['Fraction of blocked customers','Average interarrival time','Total Customers','Blocked Customers'])\n",
    "\n",
    "for i in range(10):\n",
    "    np.random.seed(i)\n",
    "    s.__init__(m, k, mu_arrival, service_method='pareto')\n",
    "    while s.num_in_system <= 10000 :\n",
    "        s.time_adv() \n",
    "    a=pd.Series([s.lost_customers/s.num_arrivals,s.clock/s.num_arrivals,s.num_arrivals,s.lost_customers],index=df.columns)\n",
    "    df=df.append(a,ignore_index=True)   \n",
    "    \n",
    "df  "
   ]
  },
  {
   "cell_type": "code",
   "execution_count": 15,
   "metadata": {},
   "outputs": [
    {
     "output_type": "stream",
     "name": "stdout",
     "text": [
      "mean                            0.00018\ncount                              10.0\nstd                            0.000148\nCI low limit      [8.8991100889911e-05]\nCI high limit    [0.000270972902709729]\nCI range                       0.000182\nName: Fraction of blocked customers, dtype: object\n"
     ]
    }
   ],
   "source": [
    "stats = df['Fraction of blocked customers'].agg(['mean', 'count', 'std'])\n",
    "ci95_hi = []\n",
    "ci95_lo = []\n",
    "m = stats.loc['mean']\n",
    "c = stats.loc['count']\n",
    "s = stats.loc['std']\n",
    "ci95_hi.append(m + 1.95*s/math.sqrt(c))\n",
    "ci95_lo.append(m - 1.95*s/math.sqrt(c))\n",
    "\n",
    "stats['CI low limit'] = ci95_lo\n",
    "stats['CI high limit'] = ci95_hi\n",
    "stats['CI range'] = ci95_hi[0] - ci95_lo[0]\n",
    "print(stats)\n",
    "\n",
    "stats['run'] = 'Q3 Pareto k=2.05 for service'\n",
    "results = results.append(stats,ignore_index=True)"
   ]
  },
  {
   "source": [
    "- **(c) Choose one or two other distributions.**"
   ],
   "cell_type": "markdown",
   "metadata": {}
  },
  {
   "cell_type": "code",
   "execution_count": 16,
   "metadata": {},
   "outputs": [
    {
     "output_type": "execute_result",
     "data": {
      "text/plain": [
       "   Fraction of blocked customers  Average interarrival time  Total Customers  \\\n",
       "0                       0.129587                   0.993301          10001.0   \n",
       "1                       0.124788                   1.002800          10001.0   \n",
       "2                       0.130487                   0.994601          10001.0   \n",
       "3                       0.131087                   0.997700          10001.0   \n",
       "4                       0.126887                   0.994201          10001.0   \n",
       "5                       0.122488                   1.006599          10001.0   \n",
       "6                       0.128587                   1.006699          10001.0   \n",
       "7                       0.133687                   0.984902          10001.0   \n",
       "8                       0.130687                   0.995500          10001.0   \n",
       "9                       0.125187                   1.013199          10001.0   \n",
       "\n",
       "   Blocked Customers  \n",
       "0             1296.0  \n",
       "1             1248.0  \n",
       "2             1305.0  \n",
       "3             1311.0  \n",
       "4             1269.0  \n",
       "5             1225.0  \n",
       "6             1286.0  \n",
       "7             1337.0  \n",
       "8             1307.0  \n",
       "9             1252.0  "
      ],
      "text/html": "<div>\n<style scoped>\n    .dataframe tbody tr th:only-of-type {\n        vertical-align: middle;\n    }\n\n    .dataframe tbody tr th {\n        vertical-align: top;\n    }\n\n    .dataframe thead th {\n        text-align: right;\n    }\n</style>\n<table border=\"1\" class=\"dataframe\">\n  <thead>\n    <tr style=\"text-align: right;\">\n      <th></th>\n      <th>Fraction of blocked customers</th>\n      <th>Average interarrival time</th>\n      <th>Total Customers</th>\n      <th>Blocked Customers</th>\n    </tr>\n  </thead>\n  <tbody>\n    <tr>\n      <th>0</th>\n      <td>0.129587</td>\n      <td>0.993301</td>\n      <td>10001.0</td>\n      <td>1296.0</td>\n    </tr>\n    <tr>\n      <th>1</th>\n      <td>0.124788</td>\n      <td>1.002800</td>\n      <td>10001.0</td>\n      <td>1248.0</td>\n    </tr>\n    <tr>\n      <th>2</th>\n      <td>0.130487</td>\n      <td>0.994601</td>\n      <td>10001.0</td>\n      <td>1305.0</td>\n    </tr>\n    <tr>\n      <th>3</th>\n      <td>0.131087</td>\n      <td>0.997700</td>\n      <td>10001.0</td>\n      <td>1311.0</td>\n    </tr>\n    <tr>\n      <th>4</th>\n      <td>0.126887</td>\n      <td>0.994201</td>\n      <td>10001.0</td>\n      <td>1269.0</td>\n    </tr>\n    <tr>\n      <th>5</th>\n      <td>0.122488</td>\n      <td>1.006599</td>\n      <td>10001.0</td>\n      <td>1225.0</td>\n    </tr>\n    <tr>\n      <th>6</th>\n      <td>0.128587</td>\n      <td>1.006699</td>\n      <td>10001.0</td>\n      <td>1286.0</td>\n    </tr>\n    <tr>\n      <th>7</th>\n      <td>0.133687</td>\n      <td>0.984902</td>\n      <td>10001.0</td>\n      <td>1337.0</td>\n    </tr>\n    <tr>\n      <th>8</th>\n      <td>0.130687</td>\n      <td>0.995500</td>\n      <td>10001.0</td>\n      <td>1307.0</td>\n    </tr>\n    <tr>\n      <th>9</th>\n      <td>0.125187</td>\n      <td>1.013199</td>\n      <td>10001.0</td>\n      <td>1252.0</td>\n    </tr>\n  </tbody>\n</table>\n</div>"
     },
     "metadata": {},
     "execution_count": 16
    }
   ],
   "source": [
    "m = 10\n",
    "mu_service = 8.\n",
    "mu_arrival = 1\n",
    "s=Blocking_System(m, mu_service, mu_arrival, service_method='normal')\n",
    "df=pd.DataFrame(columns=['Fraction of blocked customers','Average interarrival time','Total Customers','Blocked Customers'])\n",
    "\n",
    "for i in range(10):\n",
    "    np.random.seed(i)\n",
    "    s.__init__(m, mu_service, mu_arrival, service_method='normal')\n",
    "    while s.num_in_system <= 10000 :\n",
    "        s.time_adv() \n",
    "    a=pd.Series([s.lost_customers/s.num_arrivals,s.clock/s.num_arrivals,s.num_arrivals,s.lost_customers],index=df.columns)\n",
    "    df=df.append(a,ignore_index=True)   \n",
    "    \n",
    "df  "
   ]
  },
  {
   "cell_type": "code",
   "execution_count": 17,
   "metadata": {},
   "outputs": [
    {
     "output_type": "stream",
     "name": "stdout",
     "text": [
      "mean                          0.128347\ncount                             10.0\nstd                           0.003445\nCI low limit        [0.12622312040599]\nCI high limit    [0.13047121016095328]\nCI range                      0.004248\nName: Fraction of blocked customers, dtype: object\n"
     ]
    }
   ],
   "source": [
    "stats = df['Fraction of blocked customers'].agg(['mean', 'count', 'std'])\n",
    "ci95_hi = []\n",
    "ci95_lo = []\n",
    "m = stats.loc['mean']\n",
    "c = stats.loc['count']\n",
    "s = stats.loc['std']\n",
    "ci95_hi.append(m + 1.95*s/math.sqrt(c))\n",
    "ci95_lo.append(m - 1.95*s/math.sqrt(c))\n",
    "\n",
    "stats['CI low limit'] = ci95_lo\n",
    "stats['CI high limit'] = ci95_hi\n",
    "stats['CI range'] = ci95_hi[0] - ci95_lo[0]\n",
    "print(stats)\n",
    "\n",
    "stats['run'] = 'Q3 Normal for service'\n",
    "results = results.append(stats,ignore_index=True)"
   ]
  },
  {
   "source": [
    "**4. Compare confidence intervals for Parts 1, 2, and 3 and try explain differences if any.**"
   ],
   "cell_type": "markdown",
   "metadata": {}
  },
  {
   "cell_type": "code",
   "execution_count": 18,
   "metadata": {},
   "outputs": [
    {
     "output_type": "execute_result",
     "data": {
      "text/plain": [
       "                               run      mean  count       std  \\\n",
       "0                       Q1 Poisson  0.000160   10.0  0.000171   \n",
       "1            Q2 Erlang for arrival  0.000000   10.0  0.000000   \n",
       "2  Q2 Hyperexponential for arrival  0.000000   10.0  0.000000   \n",
       "3          Q3 Constant for service  0.106539   10.0  0.003625   \n",
       "4     Q3 Pareto k=1.05 for service  0.076272   10.0  0.032631   \n",
       "5     Q3 Pareto k=2.05 for service  0.000180   10.0  0.000148   \n",
       "6            Q3 Normal for service  0.128347   10.0  0.003445   \n",
       "\n",
       "              CI low limit            CI high limit  CI range  \n",
       "0  [5.438206253347918e-05]  [0.0002655859406662009]  0.000211  \n",
       "1                    [0.0]                    [0.0]  0.000000  \n",
       "2                    [0.0]                    [0.0]  0.000000  \n",
       "3    [0.10430386251083941]    [0.10877482961994751]  0.004471  \n",
       "4    [0.05615069985495928]    [0.09639404567048816]  0.040243  \n",
       "5    [8.8991100889911e-05]   [0.000270972902709729]  0.000182  \n",
       "6       [0.12622312040599]    [0.13047121016095328]  0.004248  "
      ],
      "text/html": "<div>\n<style scoped>\n    .dataframe tbody tr th:only-of-type {\n        vertical-align: middle;\n    }\n\n    .dataframe tbody tr th {\n        vertical-align: top;\n    }\n\n    .dataframe thead th {\n        text-align: right;\n    }\n</style>\n<table border=\"1\" class=\"dataframe\">\n  <thead>\n    <tr style=\"text-align: right;\">\n      <th></th>\n      <th>run</th>\n      <th>mean</th>\n      <th>count</th>\n      <th>std</th>\n      <th>CI low limit</th>\n      <th>CI high limit</th>\n      <th>CI range</th>\n    </tr>\n  </thead>\n  <tbody>\n    <tr>\n      <th>0</th>\n      <td>Q1 Poisson</td>\n      <td>0.000160</td>\n      <td>10.0</td>\n      <td>0.000171</td>\n      <td>[5.438206253347918e-05]</td>\n      <td>[0.0002655859406662009]</td>\n      <td>0.000211</td>\n    </tr>\n    <tr>\n      <th>1</th>\n      <td>Q2 Erlang for arrival</td>\n      <td>0.000000</td>\n      <td>10.0</td>\n      <td>0.000000</td>\n      <td>[0.0]</td>\n      <td>[0.0]</td>\n      <td>0.000000</td>\n    </tr>\n    <tr>\n      <th>2</th>\n      <td>Q2 Hyperexponential for arrival</td>\n      <td>0.000000</td>\n      <td>10.0</td>\n      <td>0.000000</td>\n      <td>[0.0]</td>\n      <td>[0.0]</td>\n      <td>0.000000</td>\n    </tr>\n    <tr>\n      <th>3</th>\n      <td>Q3 Constant for service</td>\n      <td>0.106539</td>\n      <td>10.0</td>\n      <td>0.003625</td>\n      <td>[0.10430386251083941]</td>\n      <td>[0.10877482961994751]</td>\n      <td>0.004471</td>\n    </tr>\n    <tr>\n      <th>4</th>\n      <td>Q3 Pareto k=1.05 for service</td>\n      <td>0.076272</td>\n      <td>10.0</td>\n      <td>0.032631</td>\n      <td>[0.05615069985495928]</td>\n      <td>[0.09639404567048816]</td>\n      <td>0.040243</td>\n    </tr>\n    <tr>\n      <th>5</th>\n      <td>Q3 Pareto k=2.05 for service</td>\n      <td>0.000180</td>\n      <td>10.0</td>\n      <td>0.000148</td>\n      <td>[8.8991100889911e-05]</td>\n      <td>[0.000270972902709729]</td>\n      <td>0.000182</td>\n    </tr>\n    <tr>\n      <th>6</th>\n      <td>Q3 Normal for service</td>\n      <td>0.128347</td>\n      <td>10.0</td>\n      <td>0.003445</td>\n      <td>[0.12622312040599]</td>\n      <td>[0.13047121016095328]</td>\n      <td>0.004248</td>\n    </tr>\n  </tbody>\n</table>\n</div>"
     },
     "metadata": {},
     "execution_count": 18
    }
   ],
   "source": [
    "results"
   ]
  },
  {
   "source": [
    "The last 3 columns from the table above show the CI limits for each of the performed runs.\n",
    "\n",
    "For the first 3 simulations the arrival process is being modified, where only with the Poisson function some customers are being blocked. This is due to the shape of this distribution, having its higher probabilities for lower values of x (closer to x=0). Erlang and exponential functions generate higher values, which in this case it would mean more time between arrivals.\n",
    "\n",
    "For the last 4 runs, corresponding to Q3, the service time is being modified. The function making a bigger impact on the performance is Pareto with k=1.05. Compared to Pareto with k=2.05, with k=1.05 the distribution is more flat and tends to give higher values (less close to 0) than with k=1.05. Higher values from these distributions are translated as higher service times for the customers, increasing the blocking probability and its CI interval. In addition to this, it is logic to have a very similar CI for the constant value and Normal distribution for a high number of simulated customers (since the Normal distribution will be represented almost by its mean, which in this scenario is equal to the constant value)."
   ],
   "cell_type": "markdown",
   "metadata": {}
  }
 ]
}